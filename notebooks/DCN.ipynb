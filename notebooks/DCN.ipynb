{
 "cells": [
  {
   "cell_type": "code",
   "execution_count": 35,
   "id": "initial_id",
   "metadata": {
    "collapsed": true,
    "ExecuteTime": {
     "end_time": "2024-03-02T02:23:34.270764Z",
     "start_time": "2024-03-02T02:23:34.263737Z"
    }
   },
   "outputs": [],
   "source": [
    "import os\n",
    "import sys\n",
    "import json\n",
    "import random\n",
    "import time\n",
    "from typing import Dict, List, Tuple, Iterable\n",
    "\n",
    "parent_dir = os.path.abspath(os.path.join(os.getcwd(), os.pardir))\n",
    "if parent_dir not in sys.path:\n",
    "    sys.path.append(parent_dir)\n",
    "\n",
    "import joblib\n",
    "import pandas as pd\n",
    "import numpy as np\n",
    "import seaborn as sns\n",
    "import torch\n",
    "import torch.nn as nn\n",
    "import torch.nn.functional as F\n",
    "from sklearn.model_selection import train_test_split\n",
    "from sklearn.preprocessing import MultiLabelBinarizer\n",
    "from torch.utils.data import Dataset, DataLoader\n",
    "from torch.nn.utils import clip_grad_norm_\n",
    "from torch.optim.lr_scheduler import LambdaLR\n",
    "from torch.utils.tensorboard import SummaryWriter\n",
    "import torch.optim as optim\n",
    "from tqdm import tqdm\n",
    "from pandas.core.groupby.generic import DataFrameGroupBy\n",
    "\n",
    "device = torch.device(\"cuda\" if torch.cuda.is_available() else \"cpu\")"
   ]
  },
  {
   "cell_type": "code",
   "outputs": [],
   "source": [
    "# Load data\n",
    "\n",
    "train_df = pd.read_csv(\"../data/sampled_train.csv\")\n",
    "songs_df = pd.read_csv(\"../data/songs.csv\")\n",
    "song_extra_info_df = pd.read_csv(\"../data/song_extra_info.csv\")\n",
    "members_df = pd.read_csv(\"../data/members.csv\")\n",
    "\n",
    "\n"
   ],
   "metadata": {
    "collapsed": false,
    "ExecuteTime": {
     "end_time": "2024-03-02T02:23:44.450338Z",
     "start_time": "2024-03-02T02:23:34.294587Z"
    }
   },
   "id": "c5c91346b54190ba",
   "execution_count": 36
  },
  {
   "cell_type": "code",
   "outputs": [
    {
     "data": {
      "text/plain": "song_id        0.00\nsong_length    0.00\ngenre_ids      0.04\nartist_name    0.00\ncomposer       0.47\nlyricist       0.85\nlanguage       0.00\ndtype: float64"
     },
     "execution_count": 37,
     "metadata": {},
     "output_type": "execute_result"
    }
   ],
   "source": [
    "# Preprocess data\n",
    "# deal with NaN on song_df\n",
    "\n",
    "# check Nan distribution for song_df\n",
    "nan_dist = songs_df.isna().sum() / len(songs_df)\n",
    "nan_dist.round(2)"
   ],
   "metadata": {
    "collapsed": false,
    "ExecuteTime": {
     "end_time": "2024-03-02T02:23:44.747028Z",
     "start_time": "2024-03-02T02:23:44.451691Z"
    }
   },
   "id": "47ad28245b66c46f",
   "execution_count": 37
  },
  {
   "cell_type": "code",
   "outputs": [],
   "source": [
    "# fill Nan\n",
    "for col in ['song_length', 'genre_ids', 'artist_name', 'language']:\n",
    "    songs_df[col] = songs_df[col].fillna(\"Unknown\")"
   ],
   "metadata": {
    "collapsed": false,
    "ExecuteTime": {
     "end_time": "2024-03-02T02:23:45.076409Z",
     "start_time": "2024-03-02T02:23:44.748027Z"
    }
   },
   "id": "6ddd4e3ff798bb7f",
   "execution_count": 38
  },
  {
   "cell_type": "code",
   "outputs": [
    {
     "data": {
      "text/plain": "song_id        0.00\nsong_length    0.00\ngenre_ids      0.00\nartist_name    0.00\ncomposer       0.47\nlyricist       0.85\nlanguage       0.00\ndtype: float64"
     },
     "execution_count": 39,
     "metadata": {},
     "output_type": "execute_result"
    }
   ],
   "source": [
    "nan_dist = songs_df.isna().sum() / len(songs_df)\n",
    "nan_dist.round(2)"
   ],
   "metadata": {
    "collapsed": false,
    "ExecuteTime": {
     "end_time": "2024-03-02T02:23:45.399823Z",
     "start_time": "2024-03-02T02:23:45.077855Z"
    }
   },
   "id": "6820c52efccca49",
   "execution_count": 39
  },
  {
   "cell_type": "code",
   "outputs": [],
   "source": [
    "# for composer and lyricist, we can fill with artist_name\n",
    "songs_df['composer'] = songs_df['composer'].fillna(songs_df['artist_name'])\n",
    "songs_df['lyricist'] = songs_df['lyricist'].fillna(songs_df['artist_name'])\n"
   ],
   "metadata": {
    "collapsed": false,
    "ExecuteTime": {
     "end_time": "2024-03-02T02:23:45.753409Z",
     "start_time": "2024-03-02T02:23:45.401821Z"
    }
   },
   "id": "19c6b6e4750dcf98",
   "execution_count": 40
  },
  {
   "cell_type": "code",
   "outputs": [
    {
     "data": {
      "text/plain": "song_id        0.0\nsong_length    0.0\ngenre_ids      0.0\nartist_name    0.0\ncomposer       0.0\nlyricist       0.0\nlanguage       0.0\ndtype: float64"
     },
     "execution_count": 41,
     "metadata": {},
     "output_type": "execute_result"
    }
   ],
   "source": [
    "nan_dist = songs_df.isna().sum() / len(songs_df)\n",
    "nan_dist"
   ],
   "metadata": {
    "collapsed": false,
    "ExecuteTime": {
     "end_time": "2024-03-02T02:23:46.143299Z",
     "start_time": "2024-03-02T02:23:45.754543Z"
    }
   },
   "id": "b098e2457c12221f",
   "execution_count": 41
  },
  {
   "cell_type": "code",
   "outputs": [
    {
     "data": {
      "text/plain": "msno                  0.000000\nsong_id               0.000000\nsource_system_tab     0.003408\nsource_screen_name    0.055134\nsource_type           0.002839\ntarget                0.000000\ndtype: float64"
     },
     "execution_count": 42,
     "metadata": {},
     "output_type": "execute_result"
    }
   ],
   "source": [
    "# check Nan distribution for train_df\n",
    "nan_dist = train_df.isna().sum() / len(train_df)\n",
    "nan_dist"
   ],
   "metadata": {
    "collapsed": false,
    "ExecuteTime": {
     "end_time": "2024-03-02T02:23:46.346187Z",
     "start_time": "2024-03-02T02:23:46.144680Z"
    }
   },
   "id": "fb13de0497f23864",
   "execution_count": 42
  },
  {
   "cell_type": "code",
   "outputs": [
    {
     "name": "stdout",
     "output_type": "stream",
     "text": [
      "source_system_tab\n",
      "my library      0.521440\n",
      "discover        0.281812\n",
      "search          0.080646\n",
      "radio           0.061452\n",
      "listen with     0.027663\n",
      "explore         0.022460\n",
      "notification    0.000800\n",
      "settings        0.000318\n",
      "Name: count, dtype: float64\n",
      "source_screen_name\n",
      "Local playlist more     0.460405\n",
      "Online playlist more    0.167155\n",
      "Radio                   0.061031\n",
      "Album more              0.054944\n",
      "Search                  0.038576\n",
      "Artist more             0.033034\n",
      "Discover Feature        0.032545\n",
      "Discover Chart          0.026347\n",
      "Others profile more     0.026296\n",
      "My library              0.010886\n",
      "Discover Genre          0.010294\n",
      "Explore                 0.009790\n",
      "Unknown                 0.006986\n",
      "Discover New            0.002139\n",
      "Search Home             0.001782\n",
      "Search Trends           0.001757\n",
      "My library_Search       0.000864\n",
      "Self profile more       0.000030\n",
      "Payment                 0.000004\n",
      "Concert                 0.000002\n",
      "Name: count, dtype: float64\n"
     ]
    }
   ],
   "source": [
    "# show percentage of different values in source_system_tab and source_screen_name\n",
    "source_system_tab_dist = train_df['source_system_tab'].value_counts() / len(train_df)\n",
    "source_screen_name_dist = train_df['source_screen_name'].value_counts() / len(train_df)\n",
    "print(source_system_tab_dist)\n",
    "print(source_screen_name_dist)"
   ],
   "metadata": {
    "collapsed": false,
    "ExecuteTime": {
     "end_time": "2024-03-02T02:23:46.515056Z",
     "start_time": "2024-03-02T02:23:46.348188Z"
    }
   },
   "id": "859d1519b010fc0d",
   "execution_count": 43
  },
  {
   "cell_type": "code",
   "outputs": [],
   "source": [
    "# fill Nan for train_df with 'Unknown'\n",
    "for col in ['source_system_tab', 'source_screen_name', 'source_type']:\n",
    "    train_df[col] = train_df[col].fillna(\"Unknown\")"
   ],
   "metadata": {
    "collapsed": false,
    "ExecuteTime": {
     "end_time": "2024-03-02T02:23:46.703194Z",
     "start_time": "2024-03-02T02:23:46.516057Z"
    }
   },
   "id": "c54118837d9b6b3e",
   "execution_count": 44
  },
  {
   "cell_type": "code",
   "outputs": [
    {
     "data": {
      "text/plain": "msno                  0.0\nsong_id               0.0\nsource_system_tab     0.0\nsource_screen_name    0.0\nsource_type           0.0\ntarget                0.0\ndtype: float64"
     },
     "execution_count": 45,
     "metadata": {},
     "output_type": "execute_result"
    }
   ],
   "source": [
    "nan_dist = train_df.isna().sum() / len(train_df)\n",
    "nan_dist"
   ],
   "metadata": {
    "collapsed": false,
    "ExecuteTime": {
     "end_time": "2024-03-02T02:23:46.898158Z",
     "start_time": "2024-03-02T02:23:46.704203Z"
    }
   },
   "id": "a3f81490a574aec",
   "execution_count": 45
  },
  {
   "cell_type": "code",
   "outputs": [
    {
     "data": {
      "text/plain": "msno                      0.000000\ncity                      0.000000\nbd                        0.000000\ngender                    0.578496\nregistered_via            0.000000\nregistration_init_time    0.000000\nexpiration_date           0.000000\ndtype: float64"
     },
     "execution_count": 46,
     "metadata": {},
     "output_type": "execute_result"
    }
   ],
   "source": [
    "# check Nan distribution for members_df\n",
    "nan_dist = members_df.isna().sum() / len(members_df)\n",
    "nan_dist"
   ],
   "metadata": {
    "collapsed": false,
    "ExecuteTime": {
     "end_time": "2024-03-02T02:23:46.907255Z",
     "start_time": "2024-03-02T02:23:46.899216Z"
    }
   },
   "id": "4410113c2212607f",
   "execution_count": 46
  },
  {
   "cell_type": "code",
   "outputs": [],
   "source": [
    "# fill Nan for members_df with 'Unknown'\n",
    "# members_df['gender'] = members_df['gender'].fillna(\"Unknown\")\n",
    "\n",
    "# members_df['bd'] = members_df['bd'].apply(lambda x: np.nan if x <= 0 or x >= 75 else x)\n",
    "# members_df.isna().sum() / len(members_df)\n"
   ],
   "metadata": {
    "collapsed": false,
    "ExecuteTime": {
     "end_time": "2024-03-02T02:23:46.913747Z",
     "start_time": "2024-03-02T02:23:46.908259Z"
    }
   },
   "id": "5c97059b7bd2128d",
   "execution_count": 47
  },
  {
   "cell_type": "code",
   "outputs": [],
   "source": [
    "# # check gender 'Unknown's correlation with bd is NaN\n",
    "# members_df[members_df['gender']=='Unknown']['bd'].isna().sum() / len(members_df)"
   ],
   "metadata": {
    "collapsed": false,
    "ExecuteTime": {
     "end_time": "2024-03-02T02:23:46.919Z",
     "start_time": "2024-03-02T02:23:46.915582Z"
    }
   },
   "id": "566a92fcd8624da5",
   "execution_count": 48
  },
  {
   "cell_type": "markdown",
   "source": [
    "## current data preprocessing\n",
    "- Members: get rid of bd and gender col\n",
    "- Songs: filled NaN composer and lyricist with artist_name\n",
    "- Train: filled NaN source_system_tab, source_screen_name, source_type with 'Unknown'"
   ],
   "metadata": {
    "collapsed": false
   },
   "id": "9c49b3ca8250fa84"
  },
  {
   "cell_type": "code",
   "outputs": [
    {
     "data": {
      "text/plain": "array(['Explore', 'Local playlist more', 'My library',\n       'Online playlist more', 'Unknown', 'Discover Feature', 'Radio',\n       'Discover Chart', 'Artist more', 'Album more', 'Search Trends',\n       'Others profile more', 'Search', 'Discover Genre',\n       'My library_Search', 'Discover New', 'Search Home',\n       'Self profile more', 'Payment', 'Concert'], dtype=object)"
     },
     "execution_count": 49,
     "metadata": {},
     "output_type": "execute_result"
    }
   ],
   "source": [
    "train_df['source_screen_name'].unique()"
   ],
   "metadata": {
    "collapsed": false,
    "ExecuteTime": {
     "end_time": "2024-03-02T02:23:47.001905Z",
     "start_time": "2024-03-02T02:23:46.922245Z"
    }
   },
   "id": "da5c3cca013ba7a1",
   "execution_count": 49
  },
  {
   "cell_type": "code",
   "outputs": [
    {
     "data": {
      "text/plain": "array(['explore', 'my library', 'discover', 'radio', 'search', 'Unknown',\n       'listen with', 'notification', 'settings'], dtype=object)"
     },
     "execution_count": 50,
     "metadata": {},
     "output_type": "execute_result"
    }
   ],
   "source": [
    "train_df['source_system_tab'].unique()"
   ],
   "metadata": {
    "collapsed": false,
    "ExecuteTime": {
     "end_time": "2024-03-02T02:24:27.263157Z",
     "start_time": "2024-03-02T02:24:27.195765Z"
    }
   },
   "id": "98f0b7acadb70704",
   "execution_count": 50
  },
  {
   "cell_type": "code",
   "outputs": [
    {
     "data": {
      "text/plain": "array(['online-playlist', 'local-playlist', 'local-library',\n       'song-based-playlist', 'album', 'radio', 'top-hits-for-artist',\n       'Unknown', 'song', 'artist', 'listen-with',\n       'topic-article-playlist'], dtype=object)"
     },
     "execution_count": 51,
     "metadata": {},
     "output_type": "execute_result"
    }
   ],
   "source": [
    "train_df['source_type'].unique()"
   ],
   "metadata": {
    "collapsed": false,
    "ExecuteTime": {
     "end_time": "2024-03-02T02:25:56.811871Z",
     "start_time": "2024-03-02T02:25:56.732651Z"
    }
   },
   "id": "296e0bcc6ca294d",
   "execution_count": 51
  },
  {
   "cell_type": "code",
   "outputs": [
    {
     "data": {
      "text/plain": "array([3.0, 31.0, 52.0, 17.0, 10.0, -1.0, 24.0, 59.0, 45.0, 38.0,\n       'Unknown'], dtype=object)"
     },
     "execution_count": 52,
     "metadata": {},
     "output_type": "execute_result"
    }
   ],
   "source": [
    "songs_df['language'].unique()"
   ],
   "metadata": {
    "collapsed": false,
    "ExecuteTime": {
     "end_time": "2024-03-02T02:28:32.152716Z",
     "start_time": "2024-03-02T02:28:31.984665Z"
    }
   },
   "id": "a7b1864382f175ed",
   "execution_count": 52
  },
  {
   "cell_type": "code",
   "outputs": [],
   "source": [
    "# train and test split\n",
    "tr_df, val_df = train_test_split(train_df, test_size=0.2, shuffle=False)\n",
    "tr_song_df = tr_df.merge(songs_df, how='inner', on='song_id')\n",
    "tr_song_df['genre_ids'] = tr_song_df['genre_ids'].astype(str).str.split('|')\n",
    "tr_mem_song_df = tr_song_df.merge(members_df, how='inner', on='msno')"
   ],
   "metadata": {
    "collapsed": false,
    "ExecuteTime": {
     "end_time": "2024-03-02T02:36:02.539228Z",
     "start_time": "2024-03-02T02:35:58.353621Z"
    }
   },
   "id": "cffe38645c5bcaa7",
   "execution_count": 54
  },
  {
   "cell_type": "code",
   "outputs": [],
   "source": [],
   "metadata": {
    "collapsed": false
   },
   "id": "58f381c5a07f4521"
  }
 ],
 "metadata": {
  "kernelspec": {
   "display_name": "Python 3",
   "language": "python",
   "name": "python3"
  },
  "language_info": {
   "codemirror_mode": {
    "name": "ipython",
    "version": 2
   },
   "file_extension": ".py",
   "mimetype": "text/x-python",
   "name": "python",
   "nbconvert_exporter": "python",
   "pygments_lexer": "ipython2",
   "version": "2.7.6"
  }
 },
 "nbformat": 4,
 "nbformat_minor": 5
}
