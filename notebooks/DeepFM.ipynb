{
 "cells": [
  {
   "cell_type": "code",
   "execution_count": 11,
   "metadata": {},
   "outputs": [],
   "source": [
    "import os\n",
    "import sys\n",
    "import time\n",
    "from typing import Dict, List, Iterable\n",
    "\n",
    "parent_dir = os.path.abspath(os.path.join(os.getcwd(), os.pardir))\n",
    "if parent_dir not in sys.path:\n",
    "    sys.path.append(parent_dir)\n",
    "\n",
    "import pandas as pd\n",
    "import numpy as np\n",
    "import torch\n",
    "from datetime import datetime, timedelta\n",
    "# from torch.nn.utils.rnn import pad_sequence\n",
    "from tensorflow.keras.utils import pad_sequences\n",
    "from sklearn.metrics import log_loss, roc_auc_score\n",
    "from sklearn.model_selection import train_test_split\n",
    "from sklearn.preprocessing import LabelEncoder, MinMaxScaler, StandardScaler\n",
    "from deepctr_torch.inputs import SparseFeat, DenseFeat, VarLenSparseFeat, get_feature_names\n",
    "from deepctr_torch.models import *\n",
    "\n",
    "from src import Preprocesser\n",
    "\n",
    "DEVICE = torch.device(\"cuda\" if torch.cuda.is_available() else \"cpu\")\n",
    "# DEVICE = torch.device(\"cpu\")"
   ]
  },
  {
   "cell_type": "code",
   "execution_count": 2,
   "metadata": {},
   "outputs": [],
   "source": [
    "train_df = pd.read_csv('../data/sampled_train.csv')\n",
    "test_df = pd.read_csv('../data/pseudo_test.csv')\n",
    "real_train_df = pd.read_csv('../data/train.csv')\n",
    "real_test_df = pd.read_csv('../data/test.csv')\n",
    "songs_df = pd.read_csv('../data/songs.csv')\n",
    "members_df = pd.read_csv('../data/members.csv')"
   ]
  },
  {
   "cell_type": "markdown",
   "metadata": {},
   "source": [
    "## Preprocess"
   ]
  },
  {
   "cell_type": "code",
   "execution_count": 3,
   "metadata": {},
   "outputs": [],
   "source": [
    "class Preprocesser:\n",
    "    \"\"\"Preprocesser for DeepCTR\"\"\"\n",
    "\n",
    "    def __init__(self) -> None:\n",
    "        \"\"\"Constructor\"\"\"\n",
    "\n",
    "        self.song_le = LabelEncoder()  # song_id\n",
    "        self.msno_le = LabelEncoder()  # msno\n",
    "\n",
    "        self.sst_le = LabelEncoder()  # source_system_tab\n",
    "        self.ssn_le = LabelEncoder()  # source_screen_name\n",
    "        self.st_le = LabelEncoder()  # source_type\n",
    "\n",
    "        self.artist_le = LabelEncoder()  # artist_name\n",
    "        self.composer_le = LabelEncoder()  # composer\n",
    "        self.lyricist_le = LabelEncoder()  # lyricist\n",
    "        self.language_le = LabelEncoder()  # language\n",
    "        self.songlen_ss = StandardScaler()  # song_length\n",
    "        self.genre2idx = {'[PAD]': 0}  # genre_ids\n",
    "\n",
    "        self.dur_mm = MinMaxScaler()  # duration\n",
    "        self.bd_mm = MinMaxScaler()  # age\n",
    "        self.city_le = LabelEncoder()  # city\n",
    "        self.via_le = LabelEncoder()  # registered_via\n",
    "        self.gender_le = LabelEncoder()  # gender\n",
    "\n",
    "        self.genre_maxlen = 8\n",
    "\n",
    "    def fit_train_test(self, train_test_df: pd.DataFrame):\n",
    "        \"\"\"Fit train and test\n",
    "\n",
    "        :param train_test_df: the train or test dataframe\n",
    "        \"\"\"\n",
    "\n",
    "        # fill Nan\n",
    "        train_test_df['source_system_tab'].fillna('Unknown', inplace=True)\n",
    "        train_test_df['source_screen_name'].fillna('Unknown', inplace=True)\n",
    "        train_test_df['source_type'].fillna('Unknown', inplace=True)\n",
    "\n",
    "        # encode\n",
    "        self.sst_le.fit(train_test_df['source_system_tab'])\n",
    "        self.ssn_le.fit(train_test_df['source_screen_name'])\n",
    "        self.st_le.fit(train_test_df['source_type'])\n",
    "\n",
    "    def transform_train_test(self, train_test_df: pd.DataFrame):\n",
    "        \"\"\"Transform train and test\n",
    "\n",
    "        :param train_test_df: the train or test dataframe\n",
    "        \"\"\"\n",
    "\n",
    "        # fill Nan\n",
    "        train_test_df['source_system_tab'].fillna('Unknown', inplace=True)\n",
    "        train_test_df['source_screen_name'].fillna('Unknown', inplace=True)\n",
    "        train_test_df['source_type'].fillna('Unknown', inplace=True)\n",
    "\n",
    "        # encode\n",
    "        train_test_df['source_system_tab'] = self.sst_le.transform(\n",
    "            train_test_df['source_system_tab'])\n",
    "        train_test_df['source_screen_name'] = self.ssn_le.transform(\n",
    "            train_test_df['source_screen_name'])\n",
    "        train_test_df['source_type'] = self.st_le.transform(\n",
    "            train_test_df['source_type'])\n",
    "\n",
    "    def preprocess_songs(self, songs_df: pd.DataFrame):\n",
    "        \"\"\"Preprocess songs\n",
    "\n",
    "        :param songs_df: the song dataframe\n",
    "        \"\"\"\n",
    "\n",
    "        # fill Nan\n",
    "        songs_df['language'] = songs_df['language'].fillna(0.0).astype(str)\n",
    "        songs_df['genre_ids'].fillna('Unknown', inplace=True)\n",
    "        songs_df['composer'].fillna(songs_df['artist_name'], inplace=True)\n",
    "        songs_df['lyricist'].fillna(songs_df['lyricist'], inplace=True)\n",
    "\n",
    "        # encode & preprocess\n",
    "        def map_idx(genre_ls: List[str]):\n",
    "            for genre in genre_ls:\n",
    "                if genre not in self.genre2idx:\n",
    "                    self.genre2idx[genre] = len(self.genre2idx)\n",
    "\n",
    "            return list(map(lambda genre: self.genre2idx[genre], genre_ls))\n",
    "\n",
    "        songs_df['genre_ids'] = songs_df['genre_ids'].astype(str).str.split(\n",
    "            '|')\n",
    "        songs_df['genre_ids'] = songs_df['genre_ids'].apply(map_idx)\n",
    "\n",
    "        songs_df['song_length'] = self.songlen_ss.fit_transform(\n",
    "            songs_df['song_length'].to_numpy().reshape(-1, 1)).reshape(-1)\n",
    "\n",
    "        songs_df['artist_name'] = self.artist_le.fit_transform(\n",
    "            songs_df['artist_name'])\n",
    "        songs_df['composer'] = self.composer_le.fit_transform(\n",
    "            songs_df['composer'])\n",
    "        songs_df['lyricist'] = self.lyricist_le.fit_transform(\n",
    "            songs_df['lyricist'])\n",
    "        songs_df['language'] = self.language_le.fit_transform(\n",
    "            songs_df['language'])\n",
    "\n",
    "        self.song_le.fit(songs_df['song_id'])\n",
    "        self.genre_maxlen = max(list(map(len, songs_df['genre_ids'])))\n",
    "\n",
    "    def preprocess_members(self, members_df: pd.DataFrame):\n",
    "        \"\"\"Preprocess members\n",
    "\n",
    "        :param members_df: the member dataframe\n",
    "        \"\"\"\n",
    "\n",
    "        # duration\n",
    "        members_df['registration_init_time'] = pd.to_datetime(\n",
    "            members_df['registration_init_time'].astype(str))\n",
    "        members_df['expiration_date'] = pd.to_datetime(\n",
    "            members_df['expiration_date'].astype(str))\n",
    "        members_df['registration_init_time'] = members_df[\n",
    "            'registration_init_time'].apply(\n",
    "                lambda x: np.nan if x < datetime(2005, 10, 1) else x)\n",
    "        # members_df['expiration_date'] = members_df['expiration_date'].apply(\n",
    "        #     lambda x: np.nan if x >= datetime(2017, 9, 27) else x)\n",
    "        dur_col = (members_df['expiration_date'] -\n",
    "                   members_df['registration_init_time']\n",
    "                   ).apply(lambda x: 0 if x < timedelta(0) else x.days)\n",
    "        dur_col.fillna(0, inplace=True)\n",
    "        members_df['duration'] = self.dur_mm.fit_transform(\n",
    "            dur_col.to_numpy().reshape(-1, 1)).reshape(-1)\n",
    "\n",
    "        # age\n",
    "        members_df['bd'] = members_df['bd'].apply(lambda x: np.nan\n",
    "                                                  if x <= 5 or x >= 75 else x)\n",
    "        members_df['bd'].fillna(members_df['bd'].median(), inplace=True)\n",
    "        members_df['bd'] = self.bd_mm.fit_transform(\n",
    "            members_df['bd'].to_numpy().reshape(-1, 1)).reshape(-1)\n",
    "\n",
    "        # gender\n",
    "        members_df['gender'].fillna('Unknown', inplace=True)\n",
    "        members_df['gender'] = self.gender_le.fit_transform(\n",
    "            members_df['gender'])\n",
    "\n",
    "        # encode\n",
    "        members_df['city'] = self.city_le.fit_transform(members_df['city'])\n",
    "        members_df['registered_via'] = self.via_le.fit_transform(\n",
    "            members_df['registered_via'])\n",
    "\n",
    "        # msno\n",
    "        self.msno_le.fit(members_df['msno'])\n",
    "\n",
    "    def padding_genre(self, split_genre: pd.Series):\n",
    "        \"\"\"Pad genres\n",
    "\n",
    "        :param split_genre: a series of lists of genres\n",
    "        :return: a tensor of size (batch, vocab)\n",
    "        \"\"\"\n",
    "\n",
    "        return pad_sequences(split_genre,\n",
    "                             maxlen=self.genre_maxlen,\n",
    "                             padding='post')\n",
    "\n",
    "    def transform_msno_song(self, union_df: pd.DataFrame):\n",
    "        \"\"\"Encode msno and song_ids\n",
    "\n",
    "        :param union_df: the joined dataframes\n",
    "        \"\"\"\n",
    "\n",
    "        union_df['msno'] = self.msno_le.transform(union_df['msno'])\n",
    "        union_df['song_id'] = self.song_le.transform(union_df['song_id'])"
   ]
  },
  {
   "cell_type": "code",
   "execution_count": 4,
   "metadata": {},
   "outputs": [],
   "source": [
    "pp = Preprocesser()\n",
    "pp.fit_train_test(pd.concat([real_train_df, real_test_df]))\n",
    "pp.transform_train_test(train_df)\n",
    "pp.transform_train_test(test_df)\n",
    "pp.preprocess_songs(songs_df)\n",
    "pp.preprocess_members(members_df)"
   ]
  },
  {
   "cell_type": "code",
   "execution_count": 5,
   "metadata": {},
   "outputs": [
    {
     "data": {
      "text/plain": [
       "8"
      ]
     },
     "execution_count": 5,
     "metadata": {},
     "output_type": "execute_result"
    }
   ],
   "source": [
    "pp.genre_maxlen"
   ]
  },
  {
   "cell_type": "code",
   "execution_count": 9,
   "metadata": {},
   "outputs": [],
   "source": [
    "tr_df, val_df = train_test_split(train_df, test_size=0.2, shuffle=False)"
   ]
  },
  {
   "cell_type": "code",
   "execution_count": 10,
   "metadata": {},
   "outputs": [],
   "source": [
    "tr_song_df = tr_df.merge(songs_df, how='inner', on='song_id')\n",
    "tr_song_msno_df = tr_song_df.merge(members_df, how='inner', on='msno')"
   ]
  },
  {
   "cell_type": "code",
   "execution_count": 12,
   "metadata": {},
   "outputs": [
    {
     "data": {
      "text/html": [
       "<div>\n",
       "<style scoped>\n",
       "    .dataframe tbody tr th:only-of-type {\n",
       "        vertical-align: middle;\n",
       "    }\n",
       "\n",
       "    .dataframe tbody tr th {\n",
       "        vertical-align: top;\n",
       "    }\n",
       "\n",
       "    .dataframe thead th {\n",
       "        text-align: right;\n",
       "    }\n",
       "</style>\n",
       "<table border=\"1\" class=\"dataframe\">\n",
       "  <thead>\n",
       "    <tr style=\"text-align: right;\">\n",
       "      <th></th>\n",
       "      <th>msno</th>\n",
       "      <th>song_id</th>\n",
       "      <th>source_system_tab</th>\n",
       "      <th>source_screen_name</th>\n",
       "      <th>source_type</th>\n",
       "      <th>target</th>\n",
       "      <th>song_length</th>\n",
       "      <th>genre_ids</th>\n",
       "      <th>artist_name</th>\n",
       "      <th>composer</th>\n",
       "      <th>lyricist</th>\n",
       "      <th>language</th>\n",
       "      <th>city</th>\n",
       "      <th>bd</th>\n",
       "      <th>gender</th>\n",
       "      <th>registered_via</th>\n",
       "      <th>registration_init_time</th>\n",
       "      <th>expiration_date</th>\n",
       "      <th>duration</th>\n",
       "    </tr>\n",
       "  </thead>\n",
       "  <tbody>\n",
       "    <tr>\n",
       "      <th>0</th>\n",
       "      <td>9176</td>\n",
       "      <td>474732</td>\n",
       "      <td>2</td>\n",
       "      <td>7</td>\n",
       "      <td>7</td>\n",
       "      <td>1</td>\n",
       "      <td>-0.251818</td>\n",
       "      <td>[12]</td>\n",
       "      <td>18678</td>\n",
       "      <td>92880</td>\n",
       "      <td>110924</td>\n",
       "      <td>9</td>\n",
       "      <td>0</td>\n",
       "      <td>0.298507</td>\n",
       "      <td>0</td>\n",
       "      <td>2</td>\n",
       "      <td>2012-01-02</td>\n",
       "      <td>2017-10-05</td>\n",
       "      <td>0.445456</td>\n",
       "    </tr>\n",
       "    <tr>\n",
       "      <th>1</th>\n",
       "      <td>9176</td>\n",
       "      <td>190736</td>\n",
       "      <td>2</td>\n",
       "      <td>7</td>\n",
       "      <td>7</td>\n",
       "      <td>1</td>\n",
       "      <td>0.005030</td>\n",
       "      <td>[24]</td>\n",
       "      <td>48476</td>\n",
       "      <td>349286</td>\n",
       "      <td>110924</td>\n",
       "      <td>9</td>\n",
       "      <td>0</td>\n",
       "      <td>0.298507</td>\n",
       "      <td>0</td>\n",
       "      <td>2</td>\n",
       "      <td>2012-01-02</td>\n",
       "      <td>2017-10-05</td>\n",
       "      <td>0.445456</td>\n",
       "    </tr>\n",
       "    <tr>\n",
       "      <th>2</th>\n",
       "      <td>9176</td>\n",
       "      <td>738565</td>\n",
       "      <td>2</td>\n",
       "      <td>21</td>\n",
       "      <td>7</td>\n",
       "      <td>1</td>\n",
       "      <td>-0.082988</td>\n",
       "      <td>[1]</td>\n",
       "      <td>219335</td>\n",
       "      <td>312434</td>\n",
       "      <td>67807</td>\n",
       "      <td>5</td>\n",
       "      <td>0</td>\n",
       "      <td>0.298507</td>\n",
       "      <td>0</td>\n",
       "      <td>2</td>\n",
       "      <td>2012-01-02</td>\n",
       "      <td>2017-10-05</td>\n",
       "      <td>0.445456</td>\n",
       "    </tr>\n",
       "    <tr>\n",
       "      <th>3</th>\n",
       "      <td>9176</td>\n",
       "      <td>1551407</td>\n",
       "      <td>2</td>\n",
       "      <td>8</td>\n",
       "      <td>7</td>\n",
       "      <td>1</td>\n",
       "      <td>0.228396</td>\n",
       "      <td>[8]</td>\n",
       "      <td>206728</td>\n",
       "      <td>232955</td>\n",
       "      <td>110924</td>\n",
       "      <td>5</td>\n",
       "      <td>0</td>\n",
       "      <td>0.298507</td>\n",
       "      <td>0</td>\n",
       "      <td>2</td>\n",
       "      <td>2012-01-02</td>\n",
       "      <td>2017-10-05</td>\n",
       "      <td>0.445456</td>\n",
       "    </tr>\n",
       "    <tr>\n",
       "      <th>4</th>\n",
       "      <td>9176</td>\n",
       "      <td>500969</td>\n",
       "      <td>2</td>\n",
       "      <td>8</td>\n",
       "      <td>7</td>\n",
       "      <td>1</td>\n",
       "      <td>0.534617</td>\n",
       "      <td>[8]</td>\n",
       "      <td>216511</td>\n",
       "      <td>444848</td>\n",
       "      <td>105046</td>\n",
       "      <td>5</td>\n",
       "      <td>0</td>\n",
       "      <td>0.298507</td>\n",
       "      <td>0</td>\n",
       "      <td>2</td>\n",
       "      <td>2012-01-02</td>\n",
       "      <td>2017-10-05</td>\n",
       "      <td>0.445456</td>\n",
       "    </tr>\n",
       "    <tr>\n",
       "      <th>...</th>\n",
       "      <td>...</td>\n",
       "      <td>...</td>\n",
       "      <td>...</td>\n",
       "      <td>...</td>\n",
       "      <td>...</td>\n",
       "      <td>...</td>\n",
       "      <td>...</td>\n",
       "      <td>...</td>\n",
       "      <td>...</td>\n",
       "      <td>...</td>\n",
       "      <td>...</td>\n",
       "      <td>...</td>\n",
       "      <td>...</td>\n",
       "      <td>...</td>\n",
       "      <td>...</td>\n",
       "      <td>...</td>\n",
       "      <td>...</td>\n",
       "      <td>...</td>\n",
       "      <td>...</td>\n",
       "    </tr>\n",
       "    <tr>\n",
       "      <th>1475463</th>\n",
       "      <td>9380</td>\n",
       "      <td>1617332</td>\n",
       "      <td>7</td>\n",
       "      <td>1</td>\n",
       "      <td>11</td>\n",
       "      <td>1</td>\n",
       "      <td>-0.030397</td>\n",
       "      <td>[13]</td>\n",
       "      <td>94906</td>\n",
       "      <td>212466</td>\n",
       "      <td>110924</td>\n",
       "      <td>9</td>\n",
       "      <td>2</td>\n",
       "      <td>0.208955</td>\n",
       "      <td>1</td>\n",
       "      <td>0</td>\n",
       "      <td>2014-10-02</td>\n",
       "      <td>2014-10-09</td>\n",
       "      <td>0.001483</td>\n",
       "    </tr>\n",
       "    <tr>\n",
       "      <th>1475464</th>\n",
       "      <td>9380</td>\n",
       "      <td>480851</td>\n",
       "      <td>7</td>\n",
       "      <td>1</td>\n",
       "      <td>11</td>\n",
       "      <td>1</td>\n",
       "      <td>-0.214805</td>\n",
       "      <td>[13]</td>\n",
       "      <td>94906</td>\n",
       "      <td>212468</td>\n",
       "      <td>38367</td>\n",
       "      <td>9</td>\n",
       "      <td>2</td>\n",
       "      <td>0.208955</td>\n",
       "      <td>1</td>\n",
       "      <td>0</td>\n",
       "      <td>2014-10-02</td>\n",
       "      <td>2014-10-09</td>\n",
       "      <td>0.001483</td>\n",
       "    </tr>\n",
       "    <tr>\n",
       "      <th>1475465</th>\n",
       "      <td>9380</td>\n",
       "      <td>164802</td>\n",
       "      <td>4</td>\n",
       "      <td>0</td>\n",
       "      <td>1</td>\n",
       "      <td>1</td>\n",
       "      <td>0.001097</td>\n",
       "      <td>[13]</td>\n",
       "      <td>94906</td>\n",
       "      <td>212466</td>\n",
       "      <td>110924</td>\n",
       "      <td>9</td>\n",
       "      <td>2</td>\n",
       "      <td>0.208955</td>\n",
       "      <td>1</td>\n",
       "      <td>0</td>\n",
       "      <td>2014-10-02</td>\n",
       "      <td>2014-10-09</td>\n",
       "      <td>0.001483</td>\n",
       "    </tr>\n",
       "    <tr>\n",
       "      <th>1475466</th>\n",
       "      <td>1353</td>\n",
       "      <td>844071</td>\n",
       "      <td>1</td>\n",
       "      <td>4</td>\n",
       "      <td>9</td>\n",
       "      <td>0</td>\n",
       "      <td>0.479471</td>\n",
       "      <td>[1]</td>\n",
       "      <td>117161</td>\n",
       "      <td>322779</td>\n",
       "      <td>110924</td>\n",
       "      <td>9</td>\n",
       "      <td>0</td>\n",
       "      <td>0.298507</td>\n",
       "      <td>0</td>\n",
       "      <td>1</td>\n",
       "      <td>2016-11-04</td>\n",
       "      <td>2016-11-11</td>\n",
       "      <td>0.001483</td>\n",
       "    </tr>\n",
       "    <tr>\n",
       "      <th>1475467</th>\n",
       "      <td>1808</td>\n",
       "      <td>377301</td>\n",
       "      <td>1</td>\n",
       "      <td>4</td>\n",
       "      <td>7</td>\n",
       "      <td>1</td>\n",
       "      <td>-0.044031</td>\n",
       "      <td>[38]</td>\n",
       "      <td>193518</td>\n",
       "      <td>414988</td>\n",
       "      <td>88377</td>\n",
       "      <td>3</td>\n",
       "      <td>0</td>\n",
       "      <td>0.298507</td>\n",
       "      <td>0</td>\n",
       "      <td>1</td>\n",
       "      <td>2017-01-04</td>\n",
       "      <td>2017-01-28</td>\n",
       "      <td>0.005084</td>\n",
       "    </tr>\n",
       "  </tbody>\n",
       "</table>\n",
       "<p>1475468 rows × 19 columns</p>\n",
       "</div>"
      ],
      "text/plain": [
       "         msno  song_id  source_system_tab  source_screen_name  source_type  \\\n",
       "0        9176   474732                  2                   7            7   \n",
       "1        9176   190736                  2                   7            7   \n",
       "2        9176   738565                  2                  21            7   \n",
       "3        9176  1551407                  2                   8            7   \n",
       "4        9176   500969                  2                   8            7   \n",
       "...       ...      ...                ...                 ...          ...   \n",
       "1475463  9380  1617332                  7                   1           11   \n",
       "1475464  9380   480851                  7                   1           11   \n",
       "1475465  9380   164802                  4                   0            1   \n",
       "1475466  1353   844071                  1                   4            9   \n",
       "1475467  1808   377301                  1                   4            7   \n",
       "\n",
       "         target  song_length genre_ids  artist_name  composer  lyricist  \\\n",
       "0             1    -0.251818      [12]        18678     92880    110924   \n",
       "1             1     0.005030      [24]        48476    349286    110924   \n",
       "2             1    -0.082988       [1]       219335    312434     67807   \n",
       "3             1     0.228396       [8]       206728    232955    110924   \n",
       "4             1     0.534617       [8]       216511    444848    105046   \n",
       "...         ...          ...       ...          ...       ...       ...   \n",
       "1475463       1    -0.030397      [13]        94906    212466    110924   \n",
       "1475464       1    -0.214805      [13]        94906    212468     38367   \n",
       "1475465       1     0.001097      [13]        94906    212466    110924   \n",
       "1475466       0     0.479471       [1]       117161    322779    110924   \n",
       "1475467       1    -0.044031      [38]       193518    414988     88377   \n",
       "\n",
       "         language  city        bd  gender  registered_via  \\\n",
       "0               9     0  0.298507       0               2   \n",
       "1               9     0  0.298507       0               2   \n",
       "2               5     0  0.298507       0               2   \n",
       "3               5     0  0.298507       0               2   \n",
       "4               5     0  0.298507       0               2   \n",
       "...           ...   ...       ...     ...             ...   \n",
       "1475463         9     2  0.208955       1               0   \n",
       "1475464         9     2  0.208955       1               0   \n",
       "1475465         9     2  0.208955       1               0   \n",
       "1475466         9     0  0.298507       0               1   \n",
       "1475467         3     0  0.298507       0               1   \n",
       "\n",
       "        registration_init_time expiration_date  duration  \n",
       "0                   2012-01-02      2017-10-05  0.445456  \n",
       "1                   2012-01-02      2017-10-05  0.445456  \n",
       "2                   2012-01-02      2017-10-05  0.445456  \n",
       "3                   2012-01-02      2017-10-05  0.445456  \n",
       "4                   2012-01-02      2017-10-05  0.445456  \n",
       "...                        ...             ...       ...  \n",
       "1475463             2014-10-02      2014-10-09  0.001483  \n",
       "1475464             2014-10-02      2014-10-09  0.001483  \n",
       "1475465             2014-10-02      2014-10-09  0.001483  \n",
       "1475466             2016-11-04      2016-11-11  0.001483  \n",
       "1475467             2017-01-04      2017-01-28  0.005084  \n",
       "\n",
       "[1475468 rows x 19 columns]"
      ]
     },
     "execution_count": 12,
     "metadata": {},
     "output_type": "execute_result"
    }
   ],
   "source": [
    "tr_song_msno_df['msno'] = pp.msno_le.transform(tr_song_msno_df['msno'])\n",
    "tr_song_msno_df['song_id'] = pp.song_le.transform(tr_song_msno_df['song_id'])\n",
    "tr_song_msno_df"
   ]
  },
  {
   "cell_type": "code",
   "execution_count": 30,
   "metadata": {},
   "outputs": [],
   "source": [
    "a = pad_sequences(tr_song_msno_df['genre_ids'], maxlen=8, padding='post')"
   ]
  },
  {
   "cell_type": "code",
   "execution_count": 14,
   "metadata": {},
   "outputs": [
    {
     "data": {
      "text/plain": [
       "Index(['msno', 'song_id', 'source_system_tab', 'source_screen_name',\n",
       "       'source_type', 'target', 'song_length', 'genre_ids', 'artist_name',\n",
       "       'composer', 'lyricist', 'language', 'city', 'bd', 'gender',\n",
       "       'registered_via', 'registration_init_time', 'expiration_date',\n",
       "       'duration'],\n",
       "      dtype='object')"
      ]
     },
     "execution_count": 14,
     "metadata": {},
     "output_type": "execute_result"
    }
   ],
   "source": [
    "tr_song_msno_df.columns"
   ]
  },
  {
   "cell_type": "code",
   "execution_count": 22,
   "metadata": {},
   "outputs": [],
   "source": [
    "sparse_features = [\n",
    "    'msno', 'song_id', 'source_system_tab', 'source_screen_name',\n",
    "    'source_type', 'artist_name', 'composer', 'lyricist', 'language', 'city',\n",
    "    'gender', 'registered_via'\n",
    "]\n",
    "dense_features = ['song_length', 'bd', 'duration']\n",
    "fixlen_feature_columns = [\n",
    "    SparseFeat(feat, tr_song_msno_df[feat].nunique(), embedding_dim=64)\n",
    "    for feat in sparse_features\n",
    "] + [DenseFeat(feat, 1) for feat in dense_features]\n",
    "genre_tensor = pp.padding_genre(tr_song_msno_df['genre_ids'])\n",
    "varlen_feature_columns = [\n",
    "    VarLenSparseFeat(SparseFeat('genre_ids',\n",
    "                                vocabulary_size=len(pp.genre2idx),\n",
    "                                embedding_dim=64),\n",
    "                     maxlen=genre_tensor.size(1),\n",
    "                     combiner='mean')\n",
    "]\n",
    "\n",
    "linear_feature_columns = fixlen_feature_columns + varlen_feature_columns\n",
    "dnn_feature_columns = fixlen_feature_columns + varlen_feature_columns\n",
    "feature_names = get_feature_names(linear_feature_columns + dnn_feature_columns)"
   ]
  },
  {
   "cell_type": "code",
   "execution_count": 23,
   "metadata": {},
   "outputs": [],
   "source": [
    "train_model_input = {name: tr_song_msno_df[name] for name in feature_names}"
   ]
  },
  {
   "cell_type": "code",
   "execution_count": 7,
   "metadata": {},
   "outputs": [
    {
     "data": {
      "text/plain": [
       "0"
      ]
     },
     "execution_count": 7,
     "metadata": {},
     "output_type": "execute_result"
    }
   ],
   "source": [
    "members_df['duration'].isna().sum()"
   ]
  },
  {
   "cell_type": "code",
   "execution_count": 9,
   "metadata": {},
   "outputs": [
    {
     "data": {
      "text/plain": [
       "torch.Size([2296320, 8])"
      ]
     },
     "execution_count": 9,
     "metadata": {},
     "output_type": "execute_result"
    }
   ],
   "source": [
    "pp.padding_genre(songs_df['genre_ids']).shape"
   ]
  },
  {
   "cell_type": "code",
   "execution_count": 3,
   "metadata": {},
   "outputs": [
    {
     "data": {
      "text/plain": [
       "msno                       0\n",
       "song_id                    0\n",
       "source_system_tab       6286\n",
       "source_screen_name    101686\n",
       "source_type             5236\n",
       "target                     0\n",
       "dtype: int64"
      ]
     },
     "execution_count": 3,
     "metadata": {},
     "output_type": "execute_result"
    }
   ],
   "source": [
    "train_df.isna().sum()"
   ]
  },
  {
   "cell_type": "code",
   "execution_count": 4,
   "metadata": {},
   "outputs": [
    {
     "data": {
      "text/plain": [
       "<Axes: xlabel='source_screen_name'>"
      ]
     },
     "execution_count": 4,
     "metadata": {},
     "output_type": "execute_result"
    },
    {
     "data": {
      "image/png": "[encoded data removed]",
      "text/plain": [
       "<Figure size 640x480 with 1 Axes>"
      ]
     },
     "metadata": {},
     "output_type": "display_data"
    }
   ],
   "source": [
    "train_df['source_screen_name'].value_counts(normalize=True,\n",
    "                                            dropna=False).plot(kind='bar')"
   ]
  },
  {
   "cell_type": "code",
   "execution_count": 5,
   "metadata": {},
   "outputs": [
    {
     "data": {
      "text/plain": [
       "song_id              0\n",
       "song_length          0\n",
       "genre_ids        94116\n",
       "artist_name          0\n",
       "composer       1071358\n",
       "lyricist       1945306\n",
       "language             1\n",
       "dtype: int64"
      ]
     },
     "execution_count": 5,
     "metadata": {},
     "output_type": "execute_result"
    }
   ],
   "source": [
    "songs_df.isna().sum()"
   ]
  },
  {
   "cell_type": "code",
   "execution_count": 6,
   "metadata": {},
   "outputs": [
    {
     "data": {
      "text/plain": [
       "<Axes: xlabel='language'>"
      ]
     },
     "execution_count": 6,
     "metadata": {},
     "output_type": "execute_result"
    },
    {
     "data": {
      "image/png": "[encoded data removed]",
      "text/plain": [
       "<Figure size 640x480 with 1 Axes>"
      ]
     },
     "metadata": {},
     "output_type": "display_data"
    }
   ],
   "source": [
    "songs_df['language'].value_counts(normalize=True,\n",
    "                                  dropna=False).plot(kind='bar')"
   ]
  },
  {
   "cell_type": "code",
   "execution_count": 13,
   "metadata": {},
   "outputs": [
    {
     "data": {
      "text/plain": [
       "count    2296320.00\n",
       "mean           4.12\n",
       "std            2.68\n",
       "min            0.00\n",
       "10%            2.29\n",
       "50%            3.78\n",
       "90%            5.93\n",
       "max          202.90\n",
       "Name: song_length, dtype: float64"
      ]
     },
     "execution_count": 13,
     "metadata": {},
     "output_type": "execute_result"
    }
   ],
   "source": [
    "(songs_df['song_length'] / 60000).describe([0.1, 0.5, 0.9]).round(2)"
   ]
  },
  {
   "cell_type": "code",
   "execution_count": 43,
   "metadata": {},
   "outputs": [
    {
     "data": {
      "text/plain": [
       "msno                          0\n",
       "city                          0\n",
       "bd                            0\n",
       "gender                    19902\n",
       "registered_via                0\n",
       "registration_init_time        0\n",
       "expiration_date               0\n",
       "dtype: int64"
      ]
     },
     "execution_count": 43,
     "metadata": {},
     "output_type": "execute_result"
    }
   ],
   "source": [
    "members_df.isna().sum()"
   ]
  },
  {
   "cell_type": "code",
   "execution_count": 67,
   "metadata": {},
   "outputs": [
    {
     "data": {
      "text/plain": [
       "count    3.440300e+04\n",
       "mean     2.013994e+07\n",
       "std      2.954015e+04\n",
       "min      2.004033e+07\n",
       "25%      2.012103e+07\n",
       "50%      2.015090e+07\n",
       "75%      2.016110e+07\n",
       "max      2.017023e+07\n",
       "Name: registration_init_time, dtype: float64"
      ]
     },
     "execution_count": 67,
     "metadata": {},
     "output_type": "execute_result"
    }
   ],
   "source": [
    "members_df['registration_init_time'].describe([0.25, 0.5, 0.75])"
   ]
  },
  {
   "cell_type": "code",
   "execution_count": 98,
   "metadata": {},
   "outputs": [],
   "source": [
    "reg_col = pd.to_datetime(members_df['registration_init_time'].astype(str))\n",
    "exp_col = pd.to_datetime(members_df['expiration_date'].astype(str))\n",
    "reg_col = reg_col.apply(lambda x: np.nan if x < datetime(2005, 10, 1) else x)\n",
    "exp_col = exp_col.apply(lambda x: np.nan if x >= datetime(2017, 9, 27) else x)\n",
    "dur_col = (exp_col -\n",
    "           reg_col).apply(lambda x: np.nan if x <= timedelta(0) else x)"
   ]
  },
  {
   "cell_type": "code",
   "execution_count": 106,
   "metadata": {},
   "outputs": [
    {
     "data": {
      "text/plain": [
       "<Axes: ylabel='Frequency'>"
      ]
     },
     "execution_count": 106,
     "metadata": {},
     "output_type": "execute_result"
    },
    {
     "data": {
      "image/png": "[encoded data removed]",
      "text/plain": [
       "<Figure size 640x480 with 1 Axes>"
      ]
     },
     "metadata": {},
     "output_type": "display_data"
    }
   ],
   "source": [
    "dur_col.apply(lambda x: x.days).plot(kind='hist')"
   ]
  },
  {
   "cell_type": "code",
   "execution_count": 115,
   "metadata": {},
   "outputs": [
    {
     "data": {
      "text/plain": [
       "<Axes: ylabel='Frequency'>"
      ]
     },
     "execution_count": 115,
     "metadata": {},
     "output_type": "execute_result"
    },
    {
     "data": {
      "image/png": "[encoded data removed]",
      "text/plain": [
       "<Figure size 640x480 with 1 Axes>"
      ]
     },
     "metadata": {},
     "output_type": "display_data"
    }
   ],
   "source": [
    "pd.Series(MinMaxScaler().fit_transform(\n",
    "    dur_col.apply(lambda x: x.days).to_numpy().reshape(\n",
    "        -1, 1)).reshape(-1)).plot(kind='hist')"
   ]
  },
  {
   "cell_type": "code",
   "execution_count": 116,
   "metadata": {},
   "outputs": [
    {
     "data": {
      "text/plain": [
       "0.31543760718541985"
      ]
     },
     "execution_count": 116,
     "metadata": {},
     "output_type": "execute_result"
    }
   ],
   "source": [
    "dur_col.isna().sum() / len(dur_col)"
   ]
  },
  {
   "cell_type": "code",
   "execution_count": 60,
   "metadata": {},
   "outputs": [],
   "source": [
    "bd_col = members_df['bd'].apply(lambda x: np.nan if x <= 5 or x >= 75 else x)"
   ]
  },
  {
   "cell_type": "code",
   "execution_count": 61,
   "metadata": {},
   "outputs": [
    {
     "data": {
      "text/plain": [
       "count    14430.000000\n",
       "mean        28.851767\n",
       "std          8.996746\n",
       "min          7.000000\n",
       "25%         22.000000\n",
       "50%         27.000000\n",
       "75%         34.000000\n",
       "max         74.000000\n",
       "Name: bd, dtype: float64"
      ]
     },
     "execution_count": 61,
     "metadata": {},
     "output_type": "execute_result"
    }
   ],
   "source": [
    "bd_col.describe([0.25, 0.5, 0.75])"
   ]
  },
  {
   "cell_type": "code",
   "execution_count": 63,
   "metadata": {},
   "outputs": [
    {
     "data": {
      "text/plain": [
       "0.5805598348981194"
      ]
     },
     "execution_count": 63,
     "metadata": {},
     "output_type": "execute_result"
    }
   ],
   "source": [
    "bd_col.isna().sum() / len(bd_col)"
   ]
  },
  {
   "cell_type": "code",
   "execution_count": 45,
   "metadata": {},
   "outputs": [
    {
     "data": {
      "text/plain": [
       "<Axes: xlabel='gender'>"
      ]
     },
     "execution_count": 45,
     "metadata": {},
     "output_type": "execute_result"
    },
    {
     "data": {
      "image/png": "[encoded data removed]",
      "text/plain": [
       "<Figure size 640x480 with 1 Axes>"
      ]
     },
     "metadata": {},
     "output_type": "display_data"
    }
   ],
   "source": [
    "members_df['gender'].value_counts(normalize=True,\n",
    "                                  dropna=False).plot(kind='bar')"
   ]
  },
  {
   "cell_type": "code",
   "execution_count": 124,
   "metadata": {},
   "outputs": [],
   "source": [
    "def preprocess_train(train_df: pd.DataFrame):\n",
    "    \"\"\"Preprocess train\n",
    "    \n",
    "    :param train_df: the train dataframe\n",
    "    \"\"\"\n",
    "\n",
    "    # fill Nan\n",
    "    train_df['source_system_tab'].fillna('Unknown', inplace=True)\n",
    "    train_df['source_screen_name'].fillna('Unknown', inplace=True)\n",
    "    train_df['source_type'].fillna('Unknown', inplace=True)\n",
    "\n",
    "    # encode\n",
    "    train_df['source_system_tab'] = LabelEncoder().fit_transform(\n",
    "        train_df['source_system_tab'])\n",
    "    train_df['source_screen_name'] = LabelEncoder().fit_transform(\n",
    "        train_df['source_screen_name'])\n",
    "    train_df['source_type'] = LabelEncoder().fit_transform(\n",
    "        train_df['source_type'])\n",
    "\n",
    "\n",
    "def preprocess_songs(songs_df: pd.DataFrame):\n",
    "    \"\"\"Preprocess songs\n",
    "\n",
    "    :param songs_df: the song dataframe\n",
    "    \"\"\"\n",
    "\n",
    "    # fill Nan\n",
    "    songs_df['language'] = songs_df['language'].fillna(0.0).astype(str)\n",
    "    songs_df['genre_ids'].fillna('Unknown', inplace=True)\n",
    "    songs_df['composer'].fillna(songs_df['artist_name'], inplace=True)\n",
    "    songs_df['lyricist'].fillna(songs_df['lyricist'], inplace=True)\n",
    "\n",
    "    # encode & preprocess\n",
    "    genre2idx = {}\n",
    "\n",
    "    def map_idx(genre_ls: List[str]):\n",
    "        for genre in genre_ls:\n",
    "            if genre not in genre2idx:\n",
    "                genre2idx[genre] = len(genre2idx) + 1\n",
    "\n",
    "        return list(map(lambda genre: genre2idx[genre], genre_ls))\n",
    "\n",
    "    songs_df['genre_ids'] = songs_df['genre_ids'].astype(str).str.split('|')\n",
    "    songs_df['genre_ids'] = songs_df['genre_ids'].apply(map_idx)\n",
    "\n",
    "    songs_df['song_length'] = StandardScaler().fit_transform(\n",
    "        songs_df['song_length'].to_numpy().reshape(-1, 1)).reshape(-1)\n",
    "\n",
    "    songs_df['artist_name'] = LabelEncoder().fit_transform(\n",
    "        songs_df['artist_name'])\n",
    "    songs_df['composer'] = LabelEncoder().fit_transform(songs_df['composer'])\n",
    "    songs_df['lyricist'] = LabelEncoder().fit_transform(songs_df['lyricist'])\n",
    "    songs_df['language'] = LabelEncoder().fit_transform(songs_df['language'])\n",
    "\n",
    "\n",
    "def preprocess_members(members_df: pd.DataFrame):\n",
    "    \"\"\"Preprocess members\n",
    "    \n",
    "    :param members_df: the member dataframe\n",
    "    \"\"\"\n",
    "\n",
    "    # duration\n",
    "    members_df['registration_init_time'] = pd.to_datetime(\n",
    "        members_df['registration_init_time'].astype(str))\n",
    "    members_df['expiration_date'] = pd.to_datetime(\n",
    "        members_df['expiration_date'].astype(str))\n",
    "    members_df['registration_init_time'] = members_df[\n",
    "        'registration_init_time'].apply(lambda x: np.nan\n",
    "                                        if x < datetime(2005, 10, 1) else x)\n",
    "    members_df['expiration_date'] = members_df['expiration_date'].apply(\n",
    "        lambda x: np.nan if x >= datetime(2017, 9, 27) else x)\n",
    "    dur_col = (members_df['expiration_date'] -\n",
    "               members_df['registration_init_time']\n",
    "               ).apply(lambda x: 0 if x < timedelta(0) else x.days)\n",
    "    members_df['duration'] = MinMaxScaler().fit_transform(\n",
    "        dur_col.to_numpy().reshape(-1, 1)).reshape(-1)\n",
    "\n",
    "    # age\n",
    "    members_df['bd'] = members_df['bd'].apply(lambda x: np.nan\n",
    "                                              if x <= 5 or x >= 75 else x)\n",
    "\n",
    "    # encode\n",
    "    members_df['city'] = LabelEncoder().fit_transform(members_df['city'])\n",
    "    members_df['registered_via'] = LabelEncoder().fit_transform(\n",
    "        members_df['registered_via'])\n",
    "\n",
    "\n",
    "def padding_genre(split_genre: pd.Series):\n",
    "    \"\"\"Pad genres\n",
    "    \n",
    "    :param split_genre: a series of lists of genres\n",
    "    :return: a tensor of size (batch, vocab)\n",
    "    \"\"\"\n",
    "\n",
    "    return pad_sequence(list(map(torch.Tensor, split_genre.tolist())),\n",
    "                        batch_first=True,\n",
    "                        padding_value=0)\n"
   ]
  },
  {
   "cell_type": "code",
   "execution_count": 3,
   "metadata": {},
   "outputs": [
    {
     "data": {
      "text/html": [
       "<div>\n",
       "<style scoped>\n",
       "    .dataframe tbody tr th:only-of-type {\n",
       "        vertical-align: middle;\n",
       "    }\n",
       "\n",
       "    .dataframe tbody tr th {\n",
       "        vertical-align: top;\n",
       "    }\n",
       "\n",
       "    .dataframe thead th {\n",
       "        text-align: right;\n",
       "    }\n",
       "</style>\n",
       "<table border=\"1\" class=\"dataframe\">\n",
       "  <thead>\n",
       "    <tr style=\"text-align: right;\">\n",
       "      <th></th>\n",
       "      <th>msno</th>\n",
       "      <th>song_id</th>\n",
       "      <th>source_system_tab</th>\n",
       "      <th>source_screen_name</th>\n",
       "      <th>source_type</th>\n",
       "      <th>target</th>\n",
       "    </tr>\n",
       "  </thead>\n",
       "  <tbody>\n",
       "    <tr>\n",
       "      <th>0</th>\n",
       "      <td>FGtllVqz18RPiwJj/edr2gV78zirAiY/9SmYvia+kCg=</td>\n",
       "      <td>BBzumQNXUHKdEBOB7mAJuzok+IJA1c2Ryg/yzTF6tik=</td>\n",
       "      <td>2</td>\n",
       "      <td>7</td>\n",
       "      <td>6</td>\n",
       "      <td>1</td>\n",
       "    </tr>\n",
       "    <tr>\n",
       "      <th>1</th>\n",
       "      <td>Xumu+NIjS6QYVxDS4/t3SawvJ7viT9hPKXmf0RtLNx8=</td>\n",
       "      <td>JNWfrrC7zNN7BdMpsISKa4Mw+xVJYNnxXh3/Epw7QgY=</td>\n",
       "      <td>4</td>\n",
       "      <td>8</td>\n",
       "      <td>5</td>\n",
       "      <td>1</td>\n",
       "    </tr>\n",
       "    <tr>\n",
       "      <th>2</th>\n",
       "      <td>Xumu+NIjS6QYVxDS4/t3SawvJ7viT9hPKXmf0RtLNx8=</td>\n",
       "      <td>2A87tzfnJTSWqD7gIZHisolhe4DMdzkbd6LzO1KHjNs=</td>\n",
       "      <td>4</td>\n",
       "      <td>8</td>\n",
       "      <td>5</td>\n",
       "      <td>1</td>\n",
       "    </tr>\n",
       "    <tr>\n",
       "      <th>3</th>\n",
       "      <td>FGtllVqz18RPiwJj/edr2gV78zirAiY/9SmYvia+kCg=</td>\n",
       "      <td>3Hg5kugV1S0wzEVLAEfqjIV5UHzb7bCrdBRQlGygLvU=</td>\n",
       "      <td>2</td>\n",
       "      <td>7</td>\n",
       "      <td>6</td>\n",
       "      <td>1</td>\n",
       "    </tr>\n",
       "    <tr>\n",
       "      <th>4</th>\n",
       "      <td>uHqAtShXTRXju5GE8ri3ITsVFepPf8jUoCF7ffNOuqE=</td>\n",
       "      <td>/bU6IRSK+YNlNbaTkxo7bhsb2EDLPrnksdX3ggcZNhI=</td>\n",
       "      <td>4</td>\n",
       "      <td>8</td>\n",
       "      <td>4</td>\n",
       "      <td>1</td>\n",
       "    </tr>\n",
       "    <tr>\n",
       "      <th>...</th>\n",
       "      <td>...</td>\n",
       "      <td>...</td>\n",
       "      <td>...</td>\n",
       "      <td>...</td>\n",
       "      <td>...</td>\n",
       "      <td>...</td>\n",
       "    </tr>\n",
       "    <tr>\n",
       "      <th>1844349</th>\n",
       "      <td>TeZ+nhs7OPGhP7IPPn/oT58qjzfi0eQh4rEmW16CvLs=</td>\n",
       "      <td>7dUiqNIuyM+aDRJEw3+ZSYydeZGAQ1AAI0eOd0Nzh8c=</td>\n",
       "      <td>1</td>\n",
       "      <td>11</td>\n",
       "      <td>6</td>\n",
       "      <td>1</td>\n",
       "    </tr>\n",
       "    <tr>\n",
       "      <th>1844350</th>\n",
       "      <td>fn9SW/zrdPGYTOKTX1rQG4vXuGjd6fouQ3OL1vfiVAA=</td>\n",
       "      <td>oDa6FWM8MYb6bfrq134wyBy/YkODxg+m7AkVGplizZU=</td>\n",
       "      <td>4</td>\n",
       "      <td>19</td>\n",
       "      <td>10</td>\n",
       "      <td>0</td>\n",
       "    </tr>\n",
       "    <tr>\n",
       "      <th>1844351</th>\n",
       "      <td>XlNmaVNn6JTIkYFMGZvx4EMvUblBXrVpFaI+Ablgy7w=</td>\n",
       "      <td>VU8LPqmz8XU8iSIn+d0NxsEuUjEkvQ1khKRgWpU/qRE=</td>\n",
       "      <td>7</td>\n",
       "      <td>1</td>\n",
       "      <td>10</td>\n",
       "      <td>0</td>\n",
       "    </tr>\n",
       "    <tr>\n",
       "      <th>1844352</th>\n",
       "      <td>XlNmaVNn6JTIkYFMGZvx4EMvUblBXrVpFaI+Ablgy7w=</td>\n",
       "      <td>+ZXjijLJdny/t5JIuFm4xIlM+bRYKIkaHGDcfDSKfH8=</td>\n",
       "      <td>7</td>\n",
       "      <td>1</td>\n",
       "      <td>10</td>\n",
       "      <td>0</td>\n",
       "    </tr>\n",
       "    <tr>\n",
       "      <th>1844353</th>\n",
       "      <td>T9QOGoXeBAmB0PxnCEcKAvsFYuUJ3W40P3n9b5HFofI=</td>\n",
       "      <td>IklbcmOQ7lFmnWXjRvqhTCnV10cdAgiESWuzgNDsrkc=</td>\n",
       "      <td>1</td>\n",
       "      <td>11</td>\n",
       "      <td>6</td>\n",
       "      <td>0</td>\n",
       "    </tr>\n",
       "  </tbody>\n",
       "</table>\n",
       "<p>1844354 rows × 6 columns</p>\n",
       "</div>"
      ],
      "text/plain": [
       "                                                 msno  \\\n",
       "0        FGtllVqz18RPiwJj/edr2gV78zirAiY/9SmYvia+kCg=   \n",
       "1        Xumu+NIjS6QYVxDS4/t3SawvJ7viT9hPKXmf0RtLNx8=   \n",
       "2        Xumu+NIjS6QYVxDS4/t3SawvJ7viT9hPKXmf0RtLNx8=   \n",
       "3        FGtllVqz18RPiwJj/edr2gV78zirAiY/9SmYvia+kCg=   \n",
       "4        uHqAtShXTRXju5GE8ri3ITsVFepPf8jUoCF7ffNOuqE=   \n",
       "...                                               ...   \n",
       "1844349  TeZ+nhs7OPGhP7IPPn/oT58qjzfi0eQh4rEmW16CvLs=   \n",
       "1844350  fn9SW/zrdPGYTOKTX1rQG4vXuGjd6fouQ3OL1vfiVAA=   \n",
       "1844351  XlNmaVNn6JTIkYFMGZvx4EMvUblBXrVpFaI+Ablgy7w=   \n",
       "1844352  XlNmaVNn6JTIkYFMGZvx4EMvUblBXrVpFaI+Ablgy7w=   \n",
       "1844353  T9QOGoXeBAmB0PxnCEcKAvsFYuUJ3W40P3n9b5HFofI=   \n",
       "\n",
       "                                              song_id  source_system_tab  \\\n",
       "0        BBzumQNXUHKdEBOB7mAJuzok+IJA1c2Ryg/yzTF6tik=                  2   \n",
       "1        JNWfrrC7zNN7BdMpsISKa4Mw+xVJYNnxXh3/Epw7QgY=                  4   \n",
       "2        2A87tzfnJTSWqD7gIZHisolhe4DMdzkbd6LzO1KHjNs=                  4   \n",
       "3        3Hg5kugV1S0wzEVLAEfqjIV5UHzb7bCrdBRQlGygLvU=                  2   \n",
       "4        /bU6IRSK+YNlNbaTkxo7bhsb2EDLPrnksdX3ggcZNhI=                  4   \n",
       "...                                               ...                ...   \n",
       "1844349  7dUiqNIuyM+aDRJEw3+ZSYydeZGAQ1AAI0eOd0Nzh8c=                  1   \n",
       "1844350  oDa6FWM8MYb6bfrq134wyBy/YkODxg+m7AkVGplizZU=                  4   \n",
       "1844351  VU8LPqmz8XU8iSIn+d0NxsEuUjEkvQ1khKRgWpU/qRE=                  7   \n",
       "1844352  +ZXjijLJdny/t5JIuFm4xIlM+bRYKIkaHGDcfDSKfH8=                  7   \n",
       "1844353  IklbcmOQ7lFmnWXjRvqhTCnV10cdAgiESWuzgNDsrkc=                  1   \n",
       "\n",
       "         source_screen_name  source_type  target  \n",
       "0                         7            6       1  \n",
       "1                         8            5       1  \n",
       "2                         8            5       1  \n",
       "3                         7            6       1  \n",
       "4                         8            4       1  \n",
       "...                     ...          ...     ...  \n",
       "1844349                  11            6       1  \n",
       "1844350                  19           10       0  \n",
       "1844351                   1           10       0  \n",
       "1844352                   1           10       0  \n",
       "1844353                  11            6       0  \n",
       "\n",
       "[1844354 rows x 6 columns]"
      ]
     },
     "execution_count": 3,
     "metadata": {},
     "output_type": "execute_result"
    }
   ],
   "source": [
    "preprocess_train(train_df)\n",
    "train_df"
   ]
  },
  {
   "cell_type": "code",
   "execution_count": 4,
   "metadata": {},
   "outputs": [
    {
     "data": {
      "text/html": [
       "<div>\n",
       "<style scoped>\n",
       "    .dataframe tbody tr th:only-of-type {\n",
       "        vertical-align: middle;\n",
       "    }\n",
       "\n",
       "    .dataframe tbody tr th {\n",
       "        vertical-align: top;\n",
       "    }\n",
       "\n",
       "    .dataframe thead th {\n",
       "        text-align: right;\n",
       "    }\n",
       "</style>\n",
       "<table border=\"1\" class=\"dataframe\">\n",
       "  <thead>\n",
       "    <tr style=\"text-align: right;\">\n",
       "      <th></th>\n",
       "      <th>song_id</th>\n",
       "      <th>song_length</th>\n",
       "      <th>genre_ids</th>\n",
       "      <th>artist_name</th>\n",
       "      <th>composer</th>\n",
       "      <th>lyricist</th>\n",
       "      <th>language</th>\n",
       "    </tr>\n",
       "  </thead>\n",
       "  <tbody>\n",
       "    <tr>\n",
       "      <th>0</th>\n",
       "      <td>CXoTN1eb7AI+DntdU1vbcwGRV4SCIDxZu+YD8JP8r4E=</td>\n",
       "      <td>0.004018</td>\n",
       "      <td>[1]</td>\n",
       "      <td>214728</td>\n",
       "      <td>438921</td>\n",
       "      <td>92454</td>\n",
       "      <td>5</td>\n",
       "    </tr>\n",
       "    <tr>\n",
       "      <th>1</th>\n",
       "      <td>o0kFgae9QtnYgRkVPqLJwa05zIhRlUjfF7O1tDw0ZDU=</td>\n",
       "      <td>-0.308635</td>\n",
       "      <td>[2]</td>\n",
       "      <td>16522</td>\n",
       "      <td>365842</td>\n",
       "      <td>79043</td>\n",
       "      <td>6</td>\n",
       "    </tr>\n",
       "    <tr>\n",
       "      <th>2</th>\n",
       "      <td>DwVvVurfpuz+XPuFvucclVQEyPqcpUkHR0ne1RQzPs0=</td>\n",
       "      <td>-0.094535</td>\n",
       "      <td>[1]</td>\n",
       "      <td>157034</td>\n",
       "      <td>337001</td>\n",
       "      <td>110924</td>\n",
       "      <td>6</td>\n",
       "    </tr>\n",
       "    <tr>\n",
       "      <th>3</th>\n",
       "      <td>dKMBWoZyScdxSkihKG+Vf47nc18N9q4m58+b4e7dSSE=</td>\n",
       "      <td>0.165054</td>\n",
       "      <td>[1]</td>\n",
       "      <td>156251</td>\n",
       "      <td>434979</td>\n",
       "      <td>97976</td>\n",
       "      <td>5</td>\n",
       "    </tr>\n",
       "    <tr>\n",
       "      <th>4</th>\n",
       "      <td>W3bqWd3T+VeHFzHAUfARgW9AvVRaF4N5Yzm4Mr6Eo/o=</td>\n",
       "      <td>-0.662842</td>\n",
       "      <td>[3]</td>\n",
       "      <td>219456</td>\n",
       "      <td>387062</td>\n",
       "      <td>82237</td>\n",
       "      <td>9</td>\n",
       "    </tr>\n",
       "    <tr>\n",
       "      <th>...</th>\n",
       "      <td>...</td>\n",
       "      <td>...</td>\n",
       "      <td>...</td>\n",
       "      <td>...</td>\n",
       "      <td>...</td>\n",
       "      <td>...</td>\n",
       "      <td>...</td>\n",
       "    </tr>\n",
       "    <tr>\n",
       "      <th>2296315</th>\n",
       "      <td>lg6rn7eV/ZNg0+P+x77kHUL7GDMfoL4eMtXxncseLNA=</td>\n",
       "      <td>-1.409405</td>\n",
       "      <td>[27]</td>\n",
       "      <td>30609</td>\n",
       "      <td>326800</td>\n",
       "      <td>110924</td>\n",
       "      <td>0</td>\n",
       "    </tr>\n",
       "    <tr>\n",
       "      <th>2296316</th>\n",
       "      <td>nXi1lrSJe+gLoTTNky7If0mNPrIyCQCLwagwR6XopGU=</td>\n",
       "      <td>0.164041</td>\n",
       "      <td>[1]</td>\n",
       "      <td>218160</td>\n",
       "      <td>437321</td>\n",
       "      <td>110924</td>\n",
       "      <td>5</td>\n",
       "    </tr>\n",
       "    <tr>\n",
       "      <th>2296317</th>\n",
       "      <td>9KxSvIjbJyJzfEVWnkMbgR6dyn6d54ot0N5FKyKqii8=</td>\n",
       "      <td>1.231534</td>\n",
       "      <td>[13]</td>\n",
       "      <td>195506</td>\n",
       "      <td>393883</td>\n",
       "      <td>110924</td>\n",
       "      <td>9</td>\n",
       "    </tr>\n",
       "    <tr>\n",
       "      <th>2296318</th>\n",
       "      <td>UO8Y2MR2sjOn2q/Tp8/lzZTGKmLEvwZ20oWanG4XnYc=</td>\n",
       "      <td>-0.461872</td>\n",
       "      <td>[1]</td>\n",
       "      <td>141978</td>\n",
       "      <td>305370</td>\n",
       "      <td>110924</td>\n",
       "      <td>9</td>\n",
       "    </tr>\n",
       "    <tr>\n",
       "      <th>2296319</th>\n",
       "      <td>V/9qPSUOGT0FeIGBhDIZRRz5Y5yyjdXC2Z/+bJExo5s=</td>\n",
       "      <td>0.145864</td>\n",
       "      <td>[39]</td>\n",
       "      <td>98795</td>\n",
       "      <td>221387</td>\n",
       "      <td>110924</td>\n",
       "      <td>9</td>\n",
       "    </tr>\n",
       "  </tbody>\n",
       "</table>\n",
       "<p>2296320 rows × 7 columns</p>\n",
       "</div>"
      ],
      "text/plain": [
       "                                              song_id  song_length genre_ids  \\\n",
       "0        CXoTN1eb7AI+DntdU1vbcwGRV4SCIDxZu+YD8JP8r4E=     0.004018       [1]   \n",
       "1        o0kFgae9QtnYgRkVPqLJwa05zIhRlUjfF7O1tDw0ZDU=    -0.308635       [2]   \n",
       "2        DwVvVurfpuz+XPuFvucclVQEyPqcpUkHR0ne1RQzPs0=    -0.094535       [1]   \n",
       "3        dKMBWoZyScdxSkihKG+Vf47nc18N9q4m58+b4e7dSSE=     0.165054       [1]   \n",
       "4        W3bqWd3T+VeHFzHAUfARgW9AvVRaF4N5Yzm4Mr6Eo/o=    -0.662842       [3]   \n",
       "...                                               ...          ...       ...   \n",
       "2296315  lg6rn7eV/ZNg0+P+x77kHUL7GDMfoL4eMtXxncseLNA=    -1.409405      [27]   \n",
       "2296316  nXi1lrSJe+gLoTTNky7If0mNPrIyCQCLwagwR6XopGU=     0.164041       [1]   \n",
       "2296317  9KxSvIjbJyJzfEVWnkMbgR6dyn6d54ot0N5FKyKqii8=     1.231534      [13]   \n",
       "2296318  UO8Y2MR2sjOn2q/Tp8/lzZTGKmLEvwZ20oWanG4XnYc=    -0.461872       [1]   \n",
       "2296319  V/9qPSUOGT0FeIGBhDIZRRz5Y5yyjdXC2Z/+bJExo5s=     0.145864      [39]   \n",
       "\n",
       "         artist_name  composer  lyricist  language  \n",
       "0             214728    438921     92454         5  \n",
       "1              16522    365842     79043         6  \n",
       "2             157034    337001    110924         6  \n",
       "3             156251    434979     97976         5  \n",
       "4             219456    387062     82237         9  \n",
       "...              ...       ...       ...       ...  \n",
       "2296315        30609    326800    110924         0  \n",
       "2296316       218160    437321    110924         5  \n",
       "2296317       195506    393883    110924         9  \n",
       "2296318       141978    305370    110924         9  \n",
       "2296319        98795    221387    110924         9  \n",
       "\n",
       "[2296320 rows x 7 columns]"
      ]
     },
     "execution_count": 4,
     "metadata": {},
     "output_type": "execute_result"
    }
   ],
   "source": [
    "preprocess_songs(songs_df)\n",
    "songs_df"
   ]
  },
  {
   "cell_type": "code",
   "execution_count": 5,
   "metadata": {},
   "outputs": [
    {
     "data": {
      "text/html": [
       "<div>\n",
       "<style scoped>\n",
       "    .dataframe tbody tr th:only-of-type {\n",
       "        vertical-align: middle;\n",
       "    }\n",
       "\n",
       "    .dataframe tbody tr th {\n",
       "        vertical-align: top;\n",
       "    }\n",
       "\n",
       "    .dataframe thead th {\n",
       "        text-align: right;\n",
       "    }\n",
       "</style>\n",
       "<table border=\"1\" class=\"dataframe\">\n",
       "  <thead>\n",
       "    <tr style=\"text-align: right;\">\n",
       "      <th></th>\n",
       "      <th>msno</th>\n",
       "      <th>city</th>\n",
       "      <th>bd</th>\n",
       "      <th>gender</th>\n",
       "      <th>registered_via</th>\n",
       "      <th>registration_init_time</th>\n",
       "      <th>expiration_date</th>\n",
       "      <th>duration</th>\n",
       "    </tr>\n",
       "  </thead>\n",
       "  <tbody>\n",
       "    <tr>\n",
       "      <th>0</th>\n",
       "      <td>XQxgAYj3klVKjR3oxPPXYYFp4soD4TuBghkhMTD4oTw=</td>\n",
       "      <td>0</td>\n",
       "      <td>NaN</td>\n",
       "      <td>NaN</td>\n",
       "      <td>2</td>\n",
       "      <td>2011-08-20</td>\n",
       "      <td>2017-09-20</td>\n",
       "      <td>0.509512</td>\n",
       "    </tr>\n",
       "    <tr>\n",
       "      <th>1</th>\n",
       "      <td>UizsfmJb9mV54qE9hCYyU07Va97c0lCRLEQX3ae+ztM=</td>\n",
       "      <td>0</td>\n",
       "      <td>NaN</td>\n",
       "      <td>NaN</td>\n",
       "      <td>2</td>\n",
       "      <td>2015-06-28</td>\n",
       "      <td>2017-06-22</td>\n",
       "      <td>0.166170</td>\n",
       "    </tr>\n",
       "    <tr>\n",
       "      <th>2</th>\n",
       "      <td>D8nEhsIOBSoE6VthTaqDX8U6lqjJ7dLdr72mOyLya2A=</td>\n",
       "      <td>0</td>\n",
       "      <td>NaN</td>\n",
       "      <td>NaN</td>\n",
       "      <td>1</td>\n",
       "      <td>2016-04-11</td>\n",
       "      <td>2017-07-12</td>\n",
       "      <td>0.104744</td>\n",
       "    </tr>\n",
       "    <tr>\n",
       "      <th>3</th>\n",
       "      <td>mCuD+tZ1hERA/o5GPqk38e041J8ZsBaLcu7nGoIIvhI=</td>\n",
       "      <td>0</td>\n",
       "      <td>NaN</td>\n",
       "      <td>NaN</td>\n",
       "      <td>3</td>\n",
       "      <td>2015-09-06</td>\n",
       "      <td>2015-09-07</td>\n",
       "      <td>0.000229</td>\n",
       "    </tr>\n",
       "    <tr>\n",
       "      <th>4</th>\n",
       "      <td>q4HRBfVSssAFS9iRfxWrohxuk9kCYMKjHOEagUMV6rQ=</td>\n",
       "      <td>0</td>\n",
       "      <td>NaN</td>\n",
       "      <td>NaN</td>\n",
       "      <td>1</td>\n",
       "      <td>2017-01-26</td>\n",
       "      <td>2017-06-13</td>\n",
       "      <td>0.031630</td>\n",
       "    </tr>\n",
       "    <tr>\n",
       "      <th>...</th>\n",
       "      <td>...</td>\n",
       "      <td>...</td>\n",
       "      <td>...</td>\n",
       "      <td>...</td>\n",
       "      <td>...</td>\n",
       "      <td>...</td>\n",
       "      <td>...</td>\n",
       "      <td>...</td>\n",
       "    </tr>\n",
       "    <tr>\n",
       "      <th>34398</th>\n",
       "      <td>Wwd/cudKVuLJ3txRVxlg2Zaeliu+LRUfiBmfrnxhRCY=</td>\n",
       "      <td>0</td>\n",
       "      <td>NaN</td>\n",
       "      <td>NaN</td>\n",
       "      <td>2</td>\n",
       "      <td>2013-11-11</td>\n",
       "      <td>2017-09-10</td>\n",
       "      <td>0.320651</td>\n",
       "    </tr>\n",
       "    <tr>\n",
       "      <th>34399</th>\n",
       "      <td>g3JGnJX6Hg50lFbrNWfsHwCUmApIkiv2M8sXOaeXoIQ=</td>\n",
       "      <td>2</td>\n",
       "      <td>18.0</td>\n",
       "      <td>male</td>\n",
       "      <td>0</td>\n",
       "      <td>2014-10-24</td>\n",
       "      <td>2017-05-18</td>\n",
       "      <td>0.214760</td>\n",
       "    </tr>\n",
       "    <tr>\n",
       "      <th>34400</th>\n",
       "      <td>IMaPMJuyN+ip9Vqi+z2XuXbFAP2kbHr+EvvCNkFfj+o=</td>\n",
       "      <td>0</td>\n",
       "      <td>NaN</td>\n",
       "      <td>NaN</td>\n",
       "      <td>2</td>\n",
       "      <td>2013-08-02</td>\n",
       "      <td>2017-09-08</td>\n",
       "      <td>0.343342</td>\n",
       "    </tr>\n",
       "    <tr>\n",
       "      <th>34401</th>\n",
       "      <td>WAnCAJjUty9Stv8yKtV7ZC7PN+ilOy5FX3aIJgGPANM=</td>\n",
       "      <td>0</td>\n",
       "      <td>NaN</td>\n",
       "      <td>NaN</td>\n",
       "      <td>2</td>\n",
       "      <td>2015-10-20</td>\n",
       "      <td>2017-09-20</td>\n",
       "      <td>0.160669</td>\n",
       "    </tr>\n",
       "    <tr>\n",
       "      <th>34402</th>\n",
       "      <td>xH8KpzKGeNNq6dOvy51c/8VzqOiGG+m6vabhsPSDHX4=</td>\n",
       "      <td>0</td>\n",
       "      <td>NaN</td>\n",
       "      <td>NaN</td>\n",
       "      <td>1</td>\n",
       "      <td>2016-08-15</td>\n",
       "      <td>2016-08-18</td>\n",
       "      <td>0.000688</td>\n",
       "    </tr>\n",
       "  </tbody>\n",
       "</table>\n",
       "<p>34403 rows × 8 columns</p>\n",
       "</div>"
      ],
      "text/plain": [
       "                                               msno  city    bd gender  \\\n",
       "0      XQxgAYj3klVKjR3oxPPXYYFp4soD4TuBghkhMTD4oTw=     0   NaN    NaN   \n",
       "1      UizsfmJb9mV54qE9hCYyU07Va97c0lCRLEQX3ae+ztM=     0   NaN    NaN   \n",
       "2      D8nEhsIOBSoE6VthTaqDX8U6lqjJ7dLdr72mOyLya2A=     0   NaN    NaN   \n",
       "3      mCuD+tZ1hERA/o5GPqk38e041J8ZsBaLcu7nGoIIvhI=     0   NaN    NaN   \n",
       "4      q4HRBfVSssAFS9iRfxWrohxuk9kCYMKjHOEagUMV6rQ=     0   NaN    NaN   \n",
       "...                                             ...   ...   ...    ...   \n",
       "34398  Wwd/cudKVuLJ3txRVxlg2Zaeliu+LRUfiBmfrnxhRCY=     0   NaN    NaN   \n",
       "34399  g3JGnJX6Hg50lFbrNWfsHwCUmApIkiv2M8sXOaeXoIQ=     2  18.0   male   \n",
       "34400  IMaPMJuyN+ip9Vqi+z2XuXbFAP2kbHr+EvvCNkFfj+o=     0   NaN    NaN   \n",
       "34401  WAnCAJjUty9Stv8yKtV7ZC7PN+ilOy5FX3aIJgGPANM=     0   NaN    NaN   \n",
       "34402  xH8KpzKGeNNq6dOvy51c/8VzqOiGG+m6vabhsPSDHX4=     0   NaN    NaN   \n",
       "\n",
       "       registered_via registration_init_time expiration_date  duration  \n",
       "0                   2             2011-08-20      2017-09-20  0.509512  \n",
       "1                   2             2015-06-28      2017-06-22  0.166170  \n",
       "2                   1             2016-04-11      2017-07-12  0.104744  \n",
       "3                   3             2015-09-06      2015-09-07  0.000229  \n",
       "4                   1             2017-01-26      2017-06-13  0.031630  \n",
       "...               ...                    ...             ...       ...  \n",
       "34398               2             2013-11-11      2017-09-10  0.320651  \n",
       "34399               0             2014-10-24      2017-05-18  0.214760  \n",
       "34400               2             2013-08-02      2017-09-08  0.343342  \n",
       "34401               2             2015-10-20      2017-09-20  0.160669  \n",
       "34402               1             2016-08-15      2016-08-18  0.000688  \n",
       "\n",
       "[34403 rows x 8 columns]"
      ]
     },
     "execution_count": 5,
     "metadata": {},
     "output_type": "execute_result"
    }
   ],
   "source": [
    "preprocess_members(members_df)\n",
    "members_df"
   ]
  },
  {
   "cell_type": "code",
   "execution_count": 6,
   "metadata": {},
   "outputs": [
    {
     "data": {
      "text/plain": [
       "tensor([[ 1.,  0.,  0.,  ...,  0.,  0.,  0.],\n",
       "        [ 2.,  0.,  0.,  ...,  0.,  0.,  0.],\n",
       "        [ 1.,  0.,  0.,  ...,  0.,  0.,  0.],\n",
       "        ...,\n",
       "        [13.,  0.,  0.,  ...,  0.,  0.,  0.],\n",
       "        [ 1.,  0.,  0.,  ...,  0.,  0.,  0.],\n",
       "        [39.,  0.,  0.,  ...,  0.,  0.,  0.]])"
      ]
     },
     "execution_count": 6,
     "metadata": {},
     "output_type": "execute_result"
    }
   ],
   "source": [
    "padding_genre(songs_df['genre_ids'])"
   ]
  },
  {
   "cell_type": "code",
   "execution_count": 32,
   "metadata": {},
   "outputs": [
    {
     "data": {
      "text/plain": [
       "0           [465]\n",
       "1           [444]\n",
       "2           [465]\n",
       "3           [465]\n",
       "4           [726]\n",
       "            ...  \n",
       "2296315     [958]\n",
       "2296316     [465]\n",
       "2296317    [1609]\n",
       "2296318     [465]\n",
       "2296319     [829]\n",
       "Name: genre_ids, Length: 2296320, dtype: object"
      ]
     },
     "execution_count": 32,
     "metadata": {},
     "output_type": "execute_result"
    }
   ],
   "source": [
    "genre_col = songs_df['genre_ids'].fillna('Unknown')\n",
    "split_genra = genre_col.astype(str).str.split('|')\n",
    "split_genra"
   ]
  },
  {
   "cell_type": "code",
   "execution_count": 30,
   "metadata": {},
   "outputs": [],
   "source": [
    "genre2idx = {}\n",
    "\n",
    "\n",
    "def map_idx(genre_ls: List[str]):\n",
    "    for genre in genre_ls:\n",
    "        if genre not in genre2idx:\n",
    "            genre2idx[genre] = len(genre2idx) + 1\n",
    "\n",
    "    return list(map(lambda genre: genre2idx[genre], genre_ls))"
   ]
  },
  {
   "cell_type": "code",
   "execution_count": 33,
   "metadata": {},
   "outputs": [],
   "source": [
    "split_genra = split_genra.apply(map_idx)"
   ]
  },
  {
   "cell_type": "code",
   "execution_count": 36,
   "metadata": {},
   "outputs": [
    {
     "data": {
      "text/plain": [
       "tensor([[ 2.,  0.,  0.,  ...,  0.,  0.,  0.],\n",
       "        [ 3.,  0.,  0.,  ...,  0.,  0.,  0.],\n",
       "        [ 2.,  0.,  0.,  ...,  0.,  0.,  0.],\n",
       "        ...,\n",
       "        [14.,  0.,  0.,  ...,  0.,  0.,  0.],\n",
       "        [ 2.,  0.,  0.,  ...,  0.,  0.,  0.],\n",
       "        [40.,  0.,  0.,  ...,  0.,  0.,  0.]])"
      ]
     },
     "execution_count": 36,
     "metadata": {},
     "output_type": "execute_result"
    }
   ],
   "source": [
    "pad_sequence(list(map(torch.Tensor, split_genra.tolist())),\n",
    "             batch_first=True,\n",
    "             padding_value=0)"
   ]
  },
  {
   "cell_type": "code",
   "execution_count": 41,
   "metadata": {},
   "outputs": [
    {
     "data": {
      "text/plain": [
       "array([[ 0.00401756],\n",
       "       [-0.30863472],\n",
       "       [-0.09453453],\n",
       "       ...,\n",
       "       [ 1.23153445],\n",
       "       [-0.46187237],\n",
       "       [ 0.14586445]])"
      ]
     },
     "execution_count": 41,
     "metadata": {},
     "output_type": "execute_result"
    }
   ],
   "source": [
    "StandardScaler().fit_transform(songs_df['song_length'].to_numpy().reshape(\n",
    "    -1, 1))"
   ]
  },
  {
   "cell_type": "code",
   "execution_count": 42,
   "metadata": {},
   "outputs": [
    {
     "data": {
      "text/plain": [
       "0          247640\n",
       "1          197328\n",
       "2          231781\n",
       "3          273554\n",
       "4          140329\n",
       "            ...  \n",
       "2296315     20192\n",
       "2296316    273391\n",
       "2296317    445172\n",
       "2296318    172669\n",
       "2296319    270466\n",
       "Name: song_length, Length: 2296320, dtype: int64"
      ]
     },
     "execution_count": 42,
     "metadata": {},
     "output_type": "execute_result"
    }
   ],
   "source": [
    "songs_df['song_length']"
   ]
  },
  {
   "cell_type": "markdown",
   "metadata": {},
   "source": [
    "## Train"
   ]
  },
  {
   "cell_type": "code",
   "execution_count": 3,
   "metadata": {},
   "outputs": [],
   "source": [
    "pp = Preprocesser()\n",
    "pp.fit_train_test(pd.concat([real_train_df, real_test_df]))\n",
    "pp.transform_train_test(train_df)\n",
    "pp.transform_train_test(test_df)\n",
    "pp.preprocess_songs(songs_df)\n",
    "pp.preprocess_members(members_df)"
   ]
  },
  {
   "cell_type": "code",
   "execution_count": 4,
   "metadata": {},
   "outputs": [],
   "source": [
    "tr_df, val_df = train_test_split(train_df, test_size=0.2, shuffle=False)\n",
    "tr_song_df = tr_df.merge(songs_df, how='inner', on='song_id')\n",
    "tr_song_msno_df = tr_song_df.merge(members_df, how='inner', on='msno')\n",
    "val_song_df = val_df.merge(songs_df, how='inner', on='song_id')\n",
    "val_song_msno_df = val_song_df.merge(members_df, how='inner', on='msno')"
   ]
  },
  {
   "cell_type": "code",
   "execution_count": 5,
   "metadata": {},
   "outputs": [],
   "source": [
    "pp.transform_msno_song(tr_song_msno_df)\n",
    "pp.transform_msno_song(val_song_msno_df)"
   ]
  },
  {
   "cell_type": "code",
   "execution_count": 6,
   "metadata": {},
   "outputs": [],
   "source": [
    "tr_genre = pp.padding_genre(tr_song_msno_df['genre_ids'])\n",
    "val_genre = pp.padding_genre(val_song_msno_df['genre_ids'])"
   ]
  },
  {
   "cell_type": "code",
   "execution_count": 7,
   "metadata": {},
   "outputs": [],
   "source": [
    "sparse_features = [\n",
    "    'msno', 'song_id', 'source_system_tab', 'source_screen_name',\n",
    "    'source_type', 'artist_name', 'composer', 'lyricist', 'language', 'city',\n",
    "    'gender', 'registered_via'\n",
    "]\n",
    "dense_features = ['song_length', 'bd', 'duration']\n",
    "fixlen_feature_columns = [\n",
    "    SparseFeat(feat, pp.vocab_size[feat], embedding_dim=64)\n",
    "    for feat in sparse_features\n",
    "] + [DenseFeat(feat, 1) for feat in dense_features]\n",
    "\n",
    "varlen_feature_columns = [\n",
    "    VarLenSparseFeat(SparseFeat('genre_ids',\n",
    "                                vocabulary_size=len(pp.genre2idx),\n",
    "                                embedding_dim=64),\n",
    "                     maxlen=pp.genre_maxlen,\n",
    "                     combiner='mean')\n",
    "]\n",
    "\n",
    "linear_feature_columns = fixlen_feature_columns + varlen_feature_columns\n",
    "dnn_feature_columns = fixlen_feature_columns + varlen_feature_columns\n",
    "feature_names = get_feature_names(linear_feature_columns + dnn_feature_columns)"
   ]
  },
  {
   "cell_type": "code",
   "execution_count": 8,
   "metadata": {},
   "outputs": [],
   "source": [
    "tr_model_input = {name: tr_song_msno_df[name] for name in feature_names}\n",
    "val_model_input = {name: val_song_msno_df[name] for name in feature_names}\n",
    "tr_model_input['genre_ids'] = tr_genre\n",
    "val_model_input['genre_ids'] = val_genre"
   ]
  },
  {
   "cell_type": "code",
   "execution_count": 16,
   "metadata": {},
   "outputs": [],
   "source": [
    "model = DeepFM(linear_feature_columns,\n",
    "               dnn_feature_columns,\n",
    "               task='binary',\n",
    "               l2_reg_embedding=1e-5,\n",
    "               device=DEVICE)\n",
    "model.compile(\n",
    "    \"adagrad\",\n",
    "    \"binary_crossentropy\",\n",
    "    metrics=[\"binary_crossentropy\", \"auc\"],\n",
    ")"
   ]
  },
  {
   "cell_type": "code",
   "execution_count": 17,
   "metadata": {},
   "outputs": [
    {
     "name": "stdout",
     "output_type": "stream",
     "text": [
      "cuda\n",
      "Train on 1475468 samples, validate on 368863 samples, 11528 steps per epoch\n",
      "Epoch 1/10\n",
      "790s - loss:  0.5554 - binary_crossentropy:  0.5552 - auc:  0.7834 - val_binary_crossentropy:  0.6587 - val_auc:  0.6831\n",
      "Epoch 2/10\n",
      "790s - loss:  0.4947 - binary_crossentropy:  0.4942 - auc:  0.8367 - val_binary_crossentropy:  0.6853 - val_auc:  0.6799\n",
      "Epoch 3/10\n",
      "791s - loss:  0.4426 - binary_crossentropy:  0.4419 - auc:  0.8724 - val_binary_crossentropy:  0.7266 - val_auc:  0.6722\n",
      "Epoch 4/10\n",
      "790s - loss:  0.4012 - binary_crossentropy:  0.4004 - auc:  0.8962 - val_binary_crossentropy:  0.7798 - val_auc:  0.6650\n",
      "Epoch 5/10\n",
      "790s - loss:  0.3723 - binary_crossentropy:  0.3714 - auc:  0.9112 - val_binary_crossentropy:  0.8296 - val_auc:  0.6613\n",
      "Epoch 6/10\n",
      "790s - loss:  0.3502 - binary_crossentropy:  0.3492 - auc:  0.9219 - val_binary_crossentropy:  0.8840 - val_auc:  0.6568\n",
      "Epoch 7/10\n",
      "790s - loss:  0.3322 - binary_crossentropy:  0.3312 - auc:  0.9300 - val_binary_crossentropy:  0.9318 - val_auc:  0.6542\n",
      "Epoch 8/10\n",
      "790s - loss:  0.3168 - binary_crossentropy:  0.3158 - auc:  0.9365 - val_binary_crossentropy:  0.9796 - val_auc:  0.6516\n",
      "Epoch 9/10\n",
      "809s - loss:  0.3032 - binary_crossentropy:  0.3022 - auc:  0.9421 - val_binary_crossentropy:  1.0283 - val_auc:  0.6488\n",
      "Epoch 10/10\n",
      "798s - loss:  0.2908 - binary_crossentropy:  0.2898 - auc:  0.9469 - val_binary_crossentropy:  1.0839 - val_auc:  0.6452\n"
     ]
    },
    {
     "data": {
      "text/plain": [
       "<tensorflow.python.keras.callbacks.History at 0x1e362a7eaa0>"
      ]
     },
     "execution_count": 17,
     "metadata": {},
     "output_type": "execute_result"
    }
   ],
   "source": [
    "model.fit(tr_model_input,\n",
    "          tr_song_msno_df['target'].values,\n",
    "          batch_size=128,\n",
    "          epochs=10,\n",
    "          verbose=2,\n",
    "          validation_data=(val_model_input, val_song_msno_df['target'].values),\n",
    "          shuffle=True)"
   ]
  },
  {
   "cell_type": "code",
   "execution_count": 23,
   "metadata": {},
   "outputs": [
    {
     "data": {
      "text/plain": [
       "dict_keys(['msno', 'song_id', 'source_system_tab', 'source_screen_name', 'source_type', 'artist_name', 'composer', 'lyricist', 'language', 'city', 'gender', 'registered_via', 'song_length', 'bd', 'duration', 'genre_ids'])"
      ]
     },
     "execution_count": 23,
     "metadata": {},
     "output_type": "execute_result"
    }
   ],
   "source": [
    "tr_model_input.keys()"
   ]
  },
  {
   "cell_type": "code",
   "execution_count": 27,
   "metadata": {},
   "outputs": [
    {
     "data": {
      "text/plain": [
       "{'msno': (0, 34402),\n",
       " 'song_id': (9, 2296292),\n",
       " 'source_system_tab': (0, 8),\n",
       " 'source_screen_name': (0, 21),\n",
       " 'source_type': (0, 12),\n",
       " 'artist_name': (20, 222357),\n",
       " 'composer': (12, 447138),\n",
       " 'lyricist': (0, 110924),\n",
       " 'language': (0, 10),\n",
       " 'city': (0, 20),\n",
       " 'gender': (0, 2),\n",
       " 'registered_via': (0, 4)}"
      ]
     },
     "execution_count": 27,
     "metadata": {},
     "output_type": "execute_result"
    }
   ],
   "source": [
    "output = {}\n",
    "for key in sparse_features:\n",
    "    output[key] = (tr_model_input[key].min(), tr_model_input[key].max())\n",
    "output"
   ]
  }
 ],
 "metadata": {
  "kernelspec": {
   "display_name": "DL",
   "language": "python",
   "name": "python3"
  },
  "language_info": {
   "codemirror_mode": {
    "name": "ipython",
    "version": 3
   },
   "file_extension": ".py",
   "mimetype": "text/x-python",
   "name": "python",
   "nbconvert_exporter": "python",
   "pygments_lexer": "ipython3",
   "version": "3.10.13"
  }
 },
 "nbformat": 4,
 "nbformat_minor": 2
}
