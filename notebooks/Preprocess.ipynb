{
 "cells": [
  {
   "cell_type": "code",
   "execution_count": 6,
   "metadata": {},
   "outputs": [],
   "source": [
    "import os\n",
    "import sys\n",
    "import time\n",
    "import json\n",
    "from typing import Dict, List, Iterable\n",
    "\n",
    "parent_dir = os.path.abspath(os.path.join(os.getcwd(), os.pardir))\n",
    "if parent_dir not in sys.path:\n",
    "    sys.path.append(parent_dir)\n",
    "\n",
    "import ast\n",
    "import pandas as pd\n",
    "import numpy as np\n",
    "import torch\n",
    "from datetime import datetime, timedelta\n",
    "# from torch.nn.utils.rnn import pad_sequence\n",
    "from tensorflow.keras.utils import pad_sequences\n",
    "from sklearn.metrics import log_loss, roc_auc_score\n",
    "from sklearn.model_selection import train_test_split\n",
    "from sklearn.preprocessing import LabelEncoder, MinMaxScaler, StandardScaler\n",
    "from deepctr_torch.inputs import SparseFeat, DenseFeat, VarLenSparseFeat, get_feature_names\n",
    "from deepctr_torch.models import *\n",
    "from scipy import sparse\n",
    "from scipy.sparse.linalg import svds\n",
    "\n",
    "# from src import Preprocesser\n",
    "\n",
    "DEVICE = torch.device(\"cuda\" if torch.cuda.is_available() else \"cpu\")\n",
    "# DEVICE = torch.device(\"cpu\")"
   ]
  },
  {
   "cell_type": "markdown",
   "metadata": {},
   "source": [
    "## Preprocess"
   ]
  },
  {
   "cell_type": "code",
   "execution_count": 2,
   "metadata": {},
   "outputs": [],
   "source": [
    "train_df = pd.read_csv('../data/train.csv')\n",
    "test_df = pd.read_csv('../data/test.csv')\n",
    "songs_df = pd.read_csv('../data/songs.csv')\n",
    "songs_extra_df = pd.read_csv('../data/song_extra_info.csv')\n",
    "members_df = pd.read_csv('../data/members.csv')"
   ]
  },
  {
   "cell_type": "code",
   "execution_count": 3,
   "metadata": {},
   "outputs": [],
   "source": [
    "train_test_df = pd.concat([train_df, test_df], ignore_index=True)"
   ]
  },
  {
   "cell_type": "code",
   "execution_count": 4,
   "metadata": {},
   "outputs": [],
   "source": [
    "# filter songs and members\n",
    "songs_df = songs_df[songs_df['song_id'].isin(train_test_df['song_id'])]\n",
    "songs_extra_df = songs_extra_df[songs_extra_df['song_id'].isin(\n",
    "    train_test_df['song_id'])]\n",
    "members_df = members_df[members_df['msno'].isin(train_test_df['msno'])]"
   ]
  },
  {
   "cell_type": "markdown",
   "metadata": {},
   "source": [
    "### Songs"
   ]
  },
  {
   "cell_type": "code",
   "execution_count": 5,
   "metadata": {},
   "outputs": [],
   "source": [
    "missing_song_ids = train_test_df[~train_test_df['song_id'].\n",
    "                                 isin(songs_df['song_id'])][['song_id']]"
   ]
  },
  {
   "cell_type": "code",
   "execution_count": 6,
   "metadata": {},
   "outputs": [],
   "source": [
    "songs_df = pd.concat((songs_df, missing_song_ids), ignore_index=True)"
   ]
  },
  {
   "cell_type": "code",
   "execution_count": 7,
   "metadata": {},
   "outputs": [
    {
     "data": {
      "text/plain": [
       "Index(['song_id', 'song_length', 'genre_ids', 'artist_name', 'composer',\n",
       "       'lyricist', 'language'],\n",
       "      dtype='object')"
      ]
     },
     "execution_count": 7,
     "metadata": {},
     "output_type": "execute_result"
    }
   ],
   "source": [
    "songs_df.columns"
   ]
  },
  {
   "cell_type": "code",
   "execution_count": 8,
   "metadata": {},
   "outputs": [],
   "source": [
    "# encode song ids\n",
    "song_id_encoder = LabelEncoder()\n",
    "song_id_encoder.fit(train_test_df['song_id'])\n",
    "songs_df['song_id'] = song_id_encoder.transform(songs_df['song_id'])\n",
    "songs_extra_df['song_id'] = song_id_encoder.transform(\n",
    "    songs_extra_df['song_id'])\n",
    "train_df['song_id'] = song_id_encoder.transform(train_df['song_id'])\n",
    "test_df['song_id'] = song_id_encoder.transform(test_df['song_id'])"
   ]
  },
  {
   "cell_type": "code",
   "execution_count": 9,
   "metadata": {},
   "outputs": [],
   "source": [
    "# standardize song length\n",
    "songlen_ss = StandardScaler()\n",
    "songs_df['song_length'].fillna(songs_df['song_length'].median(), inplace=True)\n",
    "songs_df['song_length'] = songlen_ss.fit_transform(\n",
    "    songs_df['song_length'].to_numpy().reshape(-1, 1)).reshape(-1)"
   ]
  },
  {
   "cell_type": "code",
   "execution_count": 10,
   "metadata": {},
   "outputs": [],
   "source": [
    "def map_idx(item_ls: List[str], item2idx: Dict[str, int]):\n",
    "    for item in item_ls:\n",
    "        if item not in item2idx:\n",
    "            item2idx[item] = len(item2idx)\n",
    "\n",
    "    return list(map(lambda item: item2idx[item], item_ls))"
   ]
  },
  {
   "cell_type": "code",
   "execution_count": 11,
   "metadata": {},
   "outputs": [],
   "source": [
    "# genre ids\n",
    "genre2idx = {'[PAD]': 0}\n",
    "songs_df['genre_ids'].fillna('Unknown', inplace=True)\n",
    "songs_df['genre_ids'] = songs_df['genre_ids'].astype(str).str.split('|')\n",
    "songs_df['genre_ids'] = songs_df['genre_ids'].apply(map_idx,\n",
    "                                                    item2idx=genre2idx)"
   ]
  },
  {
   "cell_type": "code",
   "execution_count": 12,
   "metadata": {},
   "outputs": [],
   "source": [
    "def name_split(col_name: str):\n",
    "    return songs_df[col_name].str.split(\n",
    "        r\"and|,|feat\\.|featuring|&|\\. |\\||/|\\\\|;\",\n",
    "        regex=True).apply(lambda ls: list(\n",
    "            map(lambda s: s.strip(), filter(lambda s: s.strip(), ls))))"
   ]
  },
  {
   "cell_type": "code",
   "execution_count": 13,
   "metadata": {},
   "outputs": [],
   "source": [
    "songs_df['artist_name'].fillna(\"\", inplace=True)\n",
    "songs_df['composer'].fillna(\"\", inplace=True)\n",
    "songs_df['lyricist'].fillna(\"\", inplace=True)\n",
    "songs_df['is_featured'] = songs_df['artist_name'].apply(\n",
    "    lambda x: 1 if 'feat' in str(x) else 0)"
   ]
  },
  {
   "cell_type": "code",
   "execution_count": 14,
   "metadata": {},
   "outputs": [],
   "source": [
    "songs_df['artist_name'] = name_split('artist_name')\n",
    "songs_df['composer'] = name_split('composer')\n",
    "songs_df['lyricist'] = name_split('lyricist')"
   ]
  },
  {
   "cell_type": "code",
   "execution_count": 15,
   "metadata": {},
   "outputs": [],
   "source": [
    "songs_df['num_artist'] = songs_df['artist_name'].apply(len)\n",
    "songs_df['num_composer'] = songs_df['composer'].apply(len)\n",
    "songs_df['num_lyricist'] = songs_df['lyricist'].apply(len)"
   ]
  },
  {
   "cell_type": "code",
   "execution_count": 16,
   "metadata": {},
   "outputs": [],
   "source": [
    "for col in ['num_artist', 'num_composer', 'num_lyricist']:\n",
    "    songs_df[col] = StandardScaler().fit_transform(\n",
    "        songs_df[col].to_numpy().reshape(-1, 1)).reshape(-1)"
   ]
  },
  {
   "cell_type": "code",
   "execution_count": 17,
   "metadata": {},
   "outputs": [],
   "source": [
    "artist2idx = {'[PAD]': 0}\n",
    "songs_df['artist_name'] = songs_df['artist_name'].apply(map_idx,\n",
    "                                                        item2idx=artist2idx)"
   ]
  },
  {
   "cell_type": "code",
   "execution_count": 18,
   "metadata": {},
   "outputs": [],
   "source": [
    "for col in ['composer', 'lyricist']:\n",
    "    songs_df[col] = LabelEncoder().fit_transform(\n",
    "        songs_df[col].apply(lambda x: x[0] if x else np.nan))\n"
   ]
  },
  {
   "cell_type": "code",
   "execution_count": 19,
   "metadata": {},
   "outputs": [],
   "source": [
    "songs_df['language'].fillna(-1, inplace=True)\n",
    "songs_df['language'] = LabelEncoder().fit_transform(songs_df['language'])"
   ]
  },
  {
   "cell_type": "code",
   "execution_count": 59,
   "metadata": {},
   "outputs": [],
   "source": [
    "item2idx = {'genre_ids': genre2idx, 'artist_name': artist2idx}"
   ]
  },
  {
   "cell_type": "code",
   "execution_count": 53,
   "metadata": {},
   "outputs": [],
   "source": [
    "with open('../data/item2idx.json', 'w', encoding='utf-8') as f:\n",
    "    json.dump(item2idx, f)"
   ]
  },
  {
   "cell_type": "code",
   "execution_count": 20,
   "metadata": {},
   "outputs": [],
   "source": [
    "songs_df.to_csv('../data/prep_songs.csv', encoding='utf-8', index=False)"
   ]
  },
  {
   "cell_type": "code",
   "execution_count": 23,
   "metadata": {},
   "outputs": [
    {
     "data": {
      "text/html": [
       "<div>\n",
       "<style scoped>\n",
       "    .dataframe tbody tr th:only-of-type {\n",
       "        vertical-align: middle;\n",
       "    }\n",
       "\n",
       "    .dataframe tbody tr th {\n",
       "        vertical-align: top;\n",
       "    }\n",
       "\n",
       "    .dataframe thead th {\n",
       "        text-align: right;\n",
       "    }\n",
       "</style>\n",
       "<table border=\"1\" class=\"dataframe\">\n",
       "  <thead>\n",
       "    <tr style=\"text-align: right;\">\n",
       "      <th></th>\n",
       "      <th>song_id</th>\n",
       "      <th>song_length</th>\n",
       "      <th>genre_ids</th>\n",
       "      <th>artist_name</th>\n",
       "      <th>composer</th>\n",
       "      <th>lyricist</th>\n",
       "      <th>language</th>\n",
       "      <th>is_featured</th>\n",
       "      <th>num_artist</th>\n",
       "      <th>num_composer</th>\n",
       "      <th>num_lyricist</th>\n",
       "    </tr>\n",
       "  </thead>\n",
       "  <tbody>\n",
       "    <tr>\n",
       "      <th>0</th>\n",
       "      <td>95568</td>\n",
       "      <td>-0.007565</td>\n",
       "      <td>[1]</td>\n",
       "      <td>[1]</td>\n",
       "      <td>48018</td>\n",
       "      <td>17282</td>\n",
       "      <td>1</td>\n",
       "      <td>0</td>\n",
       "      <td>-0.176534</td>\n",
       "      <td>-0.049576</td>\n",
       "      <td>0.580873</td>\n",
       "    </tr>\n",
       "    <tr>\n",
       "      <th>1</th>\n",
       "      <td>341401</td>\n",
       "      <td>-0.345950</td>\n",
       "      <td>[2]</td>\n",
       "      <td>[2]</td>\n",
       "      <td>35491</td>\n",
       "      <td>13935</td>\n",
       "      <td>5</td>\n",
       "      <td>0</td>\n",
       "      <td>-0.176534</td>\n",
       "      <td>1.073085</td>\n",
       "      <td>0.580873</td>\n",
       "    </tr>\n",
       "    <tr>\n",
       "      <th>2</th>\n",
       "      <td>104696</td>\n",
       "      <td>-0.114229</td>\n",
       "      <td>[1]</td>\n",
       "      <td>[3]</td>\n",
       "      <td>51065</td>\n",
       "      <td>25802</td>\n",
       "      <td>5</td>\n",
       "      <td>0</td>\n",
       "      <td>-0.176534</td>\n",
       "      <td>-0.610907</td>\n",
       "      <td>-0.397917</td>\n",
       "    </tr>\n",
       "    <tr>\n",
       "      <th>3</th>\n",
       "      <td>271326</td>\n",
       "      <td>0.166725</td>\n",
       "      <td>[1]</td>\n",
       "      <td>[4]</td>\n",
       "      <td>46606</td>\n",
       "      <td>19715</td>\n",
       "      <td>1</td>\n",
       "      <td>0</td>\n",
       "      <td>-0.176534</td>\n",
       "      <td>-0.049576</td>\n",
       "      <td>0.580873</td>\n",
       "    </tr>\n",
       "    <tr>\n",
       "      <th>4</th>\n",
       "      <td>223595</td>\n",
       "      <td>-0.729310</td>\n",
       "      <td>[3]</td>\n",
       "      <td>[5]</td>\n",
       "      <td>37237</td>\n",
       "      <td>14608</td>\n",
       "      <td>8</td>\n",
       "      <td>0</td>\n",
       "      <td>-0.176534</td>\n",
       "      <td>-0.049576</td>\n",
       "      <td>0.580873</td>\n",
       "    </tr>\n",
       "    <tr>\n",
       "      <th>...</th>\n",
       "      <td>...</td>\n",
       "      <td>...</td>\n",
       "      <td>...</td>\n",
       "      <td>...</td>\n",
       "      <td>...</td>\n",
       "      <td>...</td>\n",
       "      <td>...</td>\n",
       "      <td>...</td>\n",
       "      <td>...</td>\n",
       "      <td>...</td>\n",
       "      <td>...</td>\n",
       "    </tr>\n",
       "    <tr>\n",
       "      <th>419915</th>\n",
       "      <td>249433</td>\n",
       "      <td>-0.104544</td>\n",
       "      <td>[15]</td>\n",
       "      <td>[]</td>\n",
       "      <td>51065</td>\n",
       "      <td>25802</td>\n",
       "      <td>0</td>\n",
       "      <td>0</td>\n",
       "      <td>-1.951470</td>\n",
       "      <td>-0.610907</td>\n",
       "      <td>-0.397917</td>\n",
       "    </tr>\n",
       "    <tr>\n",
       "      <th>419916</th>\n",
       "      <td>374537</td>\n",
       "      <td>-0.104544</td>\n",
       "      <td>[15]</td>\n",
       "      <td>[]</td>\n",
       "      <td>51065</td>\n",
       "      <td>25802</td>\n",
       "      <td>0</td>\n",
       "      <td>0</td>\n",
       "      <td>-1.951470</td>\n",
       "      <td>-0.610907</td>\n",
       "      <td>-0.397917</td>\n",
       "    </tr>\n",
       "    <tr>\n",
       "      <th>419917</th>\n",
       "      <td>168359</td>\n",
       "      <td>-0.104544</td>\n",
       "      <td>[15]</td>\n",
       "      <td>[]</td>\n",
       "      <td>51065</td>\n",
       "      <td>25802</td>\n",
       "      <td>0</td>\n",
       "      <td>0</td>\n",
       "      <td>-1.951470</td>\n",
       "      <td>-0.610907</td>\n",
       "      <td>-0.397917</td>\n",
       "    </tr>\n",
       "    <tr>\n",
       "      <th>419918</th>\n",
       "      <td>185731</td>\n",
       "      <td>-0.104544</td>\n",
       "      <td>[15]</td>\n",
       "      <td>[]</td>\n",
       "      <td>51065</td>\n",
       "      <td>25802</td>\n",
       "      <td>0</td>\n",
       "      <td>0</td>\n",
       "      <td>-1.951470</td>\n",
       "      <td>-0.610907</td>\n",
       "      <td>-0.397917</td>\n",
       "    </tr>\n",
       "    <tr>\n",
       "      <th>419919</th>\n",
       "      <td>40378</td>\n",
       "      <td>-0.104544</td>\n",
       "      <td>[15]</td>\n",
       "      <td>[]</td>\n",
       "      <td>51065</td>\n",
       "      <td>25802</td>\n",
       "      <td>0</td>\n",
       "      <td>0</td>\n",
       "      <td>-1.951470</td>\n",
       "      <td>-0.610907</td>\n",
       "      <td>-0.397917</td>\n",
       "    </tr>\n",
       "  </tbody>\n",
       "</table>\n",
       "<p>419920 rows × 11 columns</p>\n",
       "</div>"
      ],
      "text/plain": [
       "        song_id  song_length genre_ids artist_name  composer  lyricist  \\\n",
       "0         95568    -0.007565       [1]         [1]     48018     17282   \n",
       "1        341401    -0.345950       [2]         [2]     35491     13935   \n",
       "2        104696    -0.114229       [1]         [3]     51065     25802   \n",
       "3        271326     0.166725       [1]         [4]     46606     19715   \n",
       "4        223595    -0.729310       [3]         [5]     37237     14608   \n",
       "...         ...          ...       ...         ...       ...       ...   \n",
       "419915   249433    -0.104544      [15]          []     51065     25802   \n",
       "419916   374537    -0.104544      [15]          []     51065     25802   \n",
       "419917   168359    -0.104544      [15]          []     51065     25802   \n",
       "419918   185731    -0.104544      [15]          []     51065     25802   \n",
       "419919    40378    -0.104544      [15]          []     51065     25802   \n",
       "\n",
       "        language  is_featured  num_artist  num_composer  num_lyricist  \n",
       "0              1            0   -0.176534     -0.049576      0.580873  \n",
       "1              5            0   -0.176534      1.073085      0.580873  \n",
       "2              5            0   -0.176534     -0.610907     -0.397917  \n",
       "3              1            0   -0.176534     -0.049576      0.580873  \n",
       "4              8            0   -0.176534     -0.049576      0.580873  \n",
       "...          ...          ...         ...           ...           ...  \n",
       "419915         0            0   -1.951470     -0.610907     -0.397917  \n",
       "419916         0            0   -1.951470     -0.610907     -0.397917  \n",
       "419917         0            0   -1.951470     -0.610907     -0.397917  \n",
       "419918         0            0   -1.951470     -0.610907     -0.397917  \n",
       "419919         0            0   -1.951470     -0.610907     -0.397917  \n",
       "\n",
       "[419920 rows x 11 columns]"
      ]
     },
     "execution_count": 23,
     "metadata": {},
     "output_type": "execute_result"
    }
   ],
   "source": [
    "songs_df"
   ]
  },
  {
   "cell_type": "markdown",
   "metadata": {},
   "source": [
    "### Members"
   ]
  },
  {
   "cell_type": "code",
   "execution_count": 24,
   "metadata": {},
   "outputs": [
    {
     "data": {
      "text/html": [
       "<div>\n",
       "<style scoped>\n",
       "    .dataframe tbody tr th:only-of-type {\n",
       "        vertical-align: middle;\n",
       "    }\n",
       "\n",
       "    .dataframe tbody tr th {\n",
       "        vertical-align: top;\n",
       "    }\n",
       "\n",
       "    .dataframe thead th {\n",
       "        text-align: right;\n",
       "    }\n",
       "</style>\n",
       "<table border=\"1\" class=\"dataframe\">\n",
       "  <thead>\n",
       "    <tr style=\"text-align: right;\">\n",
       "      <th></th>\n",
       "      <th>msno</th>\n",
       "      <th>song_id</th>\n",
       "      <th>source_system_tab</th>\n",
       "      <th>source_screen_name</th>\n",
       "      <th>source_type</th>\n",
       "      <th>target</th>\n",
       "      <th>id</th>\n",
       "    </tr>\n",
       "  </thead>\n",
       "  <tbody>\n",
       "  </tbody>\n",
       "</table>\n",
       "</div>"
      ],
      "text/plain": [
       "Empty DataFrame\n",
       "Columns: [msno, song_id, source_system_tab, source_screen_name, source_type, target, id]\n",
       "Index: []"
      ]
     },
     "execution_count": 24,
     "metadata": {},
     "output_type": "execute_result"
    }
   ],
   "source": [
    "train_test_df[~train_test_df['msno'].isin(members_df['msno'])]"
   ]
  },
  {
   "cell_type": "code",
   "execution_count": 25,
   "metadata": {},
   "outputs": [
    {
     "data": {
      "text/plain": [
       "Index(['msno', 'city', 'bd', 'gender', 'registered_via',\n",
       "       'registration_init_time', 'expiration_date'],\n",
       "      dtype='object')"
      ]
     },
     "execution_count": 25,
     "metadata": {},
     "output_type": "execute_result"
    }
   ],
   "source": [
    "members_df.columns"
   ]
  },
  {
   "cell_type": "code",
   "execution_count": 26,
   "metadata": {},
   "outputs": [],
   "source": [
    "# encode msno\n",
    "msno_encoder = LabelEncoder()\n",
    "msno_encoder.fit(members_df['msno'])\n",
    "members_df['msno'] = msno_encoder.transform(members_df['msno'])\n",
    "train_df['msno'] = msno_encoder.transform(train_df['msno'])\n",
    "test_df['msno'] = msno_encoder.transform(test_df['msno'])"
   ]
  },
  {
   "cell_type": "code",
   "execution_count": 27,
   "metadata": {},
   "outputs": [],
   "source": [
    "# age\n",
    "members_df['bd'] = members_df['bd'].apply(lambda x: np.nan\n",
    "                                          if x <= 5 or x >= 75 else x)\n",
    "members_df['bd'].fillna(members_df['bd'].median(), inplace=True)\n",
    "members_df['bd'] = MinMaxScaler().fit_transform(\n",
    "    members_df['bd'].to_numpy().reshape(-1, 1)).reshape(-1)"
   ]
  },
  {
   "cell_type": "code",
   "execution_count": 28,
   "metadata": {},
   "outputs": [],
   "source": [
    "# encode geograph info\n",
    "columns = ['city', 'gender', 'registered_via']\n",
    "for column in columns:\n",
    "    column_encoder = LabelEncoder()\n",
    "    members_df[column] = column_encoder.fit_transform(members_df[column])"
   ]
  },
  {
   "cell_type": "code",
   "execution_count": 29,
   "metadata": {},
   "outputs": [],
   "source": [
    "# preprocess dates\n",
    "members_df['registration_init_time'] = pd.to_datetime(\n",
    "    members_df['registration_init_time'].astype(str))\n",
    "members_df['expiration_date'] = pd.to_datetime(\n",
    "    members_df['expiration_date'].astype(str))"
   ]
  },
  {
   "cell_type": "code",
   "execution_count": 30,
   "metadata": {},
   "outputs": [],
   "source": [
    "members_df['registration_init_time'] = members_df[\n",
    "    'registration_init_time'].apply(lambda x: np.nan\n",
    "                                    if x < datetime(2000, 1, 1) else x)\n",
    "members_df['registration_init_time'].fillna(\n",
    "    members_df['registration_init_time'].min(), inplace=True)"
   ]
  },
  {
   "cell_type": "code",
   "execution_count": 31,
   "metadata": {},
   "outputs": [],
   "source": [
    "members_df.loc[members_df['expiration_date'] <\n",
    "               members_df['registration_init_time'],\n",
    "               'expiration_date'] = np.nan\n",
    "members_df['expiration_date'].fillna(members_df['expiration_date'].max(),\n",
    "                                     inplace=True)"
   ]
  },
  {
   "cell_type": "code",
   "execution_count": 32,
   "metadata": {},
   "outputs": [],
   "source": [
    "dur_mm = MinMaxScaler()\n",
    "dur_col = (members_df['expiration_date'] - members_df['registration_init_time']\n",
    "           ).apply(lambda x: 0 if x < timedelta(0) else x.days).fillna(0)\n",
    "members_df['duration'] = dur_mm.fit_transform(dur_col.to_numpy().reshape(\n",
    "    -1, 1)).reshape(-1)"
   ]
  },
  {
   "cell_type": "code",
   "execution_count": 33,
   "metadata": {},
   "outputs": [],
   "source": [
    "members_df['registration_init_time'] = members_df[\n",
    "    'registration_init_time'].apply(lambda x: x.timestamp())\n",
    "members_df['registration_init_time'] = MinMaxScaler().fit_transform(\n",
    "    members_df['registration_init_time'].to_numpy().reshape(-1, 1)).reshape(-1)\n",
    "members_df['expiration_date'] = members_df['expiration_date'].apply(\n",
    "    lambda x: x.timestamp())\n",
    "members_df['expiration_date'] = MinMaxScaler().fit_transform(\n",
    "    members_df['expiration_date'].to_numpy().reshape(-1, 1)).reshape(-1)"
   ]
  },
  {
   "cell_type": "code",
   "execution_count": 34,
   "metadata": {},
   "outputs": [],
   "source": [
    "members_df.to_csv('../data/prep_members.csv', encoding='utf-8', index=False)"
   ]
  },
  {
   "cell_type": "code",
   "execution_count": 35,
   "metadata": {},
   "outputs": [
    {
     "data": {
      "text/html": [
       "<div>\n",
       "<style scoped>\n",
       "    .dataframe tbody tr th:only-of-type {\n",
       "        vertical-align: middle;\n",
       "    }\n",
       "\n",
       "    .dataframe tbody tr th {\n",
       "        vertical-align: top;\n",
       "    }\n",
       "\n",
       "    .dataframe thead th {\n",
       "        text-align: right;\n",
       "    }\n",
       "</style>\n",
       "<table border=\"1\" class=\"dataframe\">\n",
       "  <thead>\n",
       "    <tr style=\"text-align: right;\">\n",
       "      <th></th>\n",
       "      <th>msno</th>\n",
       "      <th>city</th>\n",
       "      <th>bd</th>\n",
       "      <th>gender</th>\n",
       "      <th>registered_via</th>\n",
       "      <th>registration_init_time</th>\n",
       "      <th>expiration_date</th>\n",
       "      <th>duration</th>\n",
       "    </tr>\n",
       "  </thead>\n",
       "  <tbody>\n",
       "    <tr>\n",
       "      <th>0</th>\n",
       "      <td>19016</td>\n",
       "      <td>0</td>\n",
       "      <td>0.298507</td>\n",
       "      <td>2</td>\n",
       "      <td>2</td>\n",
       "      <td>0.572427</td>\n",
       "      <td>0.807903</td>\n",
       "      <td>0.431734</td>\n",
       "    </tr>\n",
       "    <tr>\n",
       "      <th>1</th>\n",
       "      <td>17476</td>\n",
       "      <td>0</td>\n",
       "      <td>0.298507</td>\n",
       "      <td>2</td>\n",
       "      <td>2</td>\n",
       "      <td>0.870606</td>\n",
       "      <td>0.792508</td>\n",
       "      <td>0.140804</td>\n",
       "    </tr>\n",
       "    <tr>\n",
       "      <th>2</th>\n",
       "      <td>7977</td>\n",
       "      <td>0</td>\n",
       "      <td>0.298507</td>\n",
       "      <td>2</td>\n",
       "      <td>1</td>\n",
       "      <td>0.931597</td>\n",
       "      <td>0.795929</td>\n",
       "      <td>0.088755</td>\n",
       "    </tr>\n",
       "    <tr>\n",
       "      <th>3</th>\n",
       "      <td>27021</td>\n",
       "      <td>0</td>\n",
       "      <td>0.298507</td>\n",
       "      <td>2</td>\n",
       "      <td>3</td>\n",
       "      <td>0.885430</td>\n",
       "      <td>0.680636</td>\n",
       "      <td>0.000194</td>\n",
       "    </tr>\n",
       "    <tr>\n",
       "      <th>4</th>\n",
       "      <td>29129</td>\n",
       "      <td>0</td>\n",
       "      <td>0.298507</td>\n",
       "      <td>2</td>\n",
       "      <td>1</td>\n",
       "      <td>0.993011</td>\n",
       "      <td>0.790968</td>\n",
       "      <td>0.026801</td>\n",
       "    </tr>\n",
       "    <tr>\n",
       "      <th>...</th>\n",
       "      <td>...</td>\n",
       "      <td>...</td>\n",
       "      <td>...</td>\n",
       "      <td>...</td>\n",
       "      <td>...</td>\n",
       "      <td>...</td>\n",
       "      <td>...</td>\n",
       "      <td>...</td>\n",
       "    </tr>\n",
       "    <tr>\n",
       "      <th>34398</th>\n",
       "      <td>18725</td>\n",
       "      <td>0</td>\n",
       "      <td>0.298507</td>\n",
       "      <td>2</td>\n",
       "      <td>2</td>\n",
       "      <td>0.744812</td>\n",
       "      <td>0.806192</td>\n",
       "      <td>0.271703</td>\n",
       "    </tr>\n",
       "    <tr>\n",
       "      <th>34399</th>\n",
       "      <td>23698</td>\n",
       "      <td>2</td>\n",
       "      <td>0.164179</td>\n",
       "      <td>1</td>\n",
       "      <td>0</td>\n",
       "      <td>0.818297</td>\n",
       "      <td>0.786521</td>\n",
       "      <td>0.181977</td>\n",
       "    </tr>\n",
       "    <tr>\n",
       "      <th>34400</th>\n",
       "      <td>10811</td>\n",
       "      <td>0</td>\n",
       "      <td>0.298507</td>\n",
       "      <td>2</td>\n",
       "      <td>2</td>\n",
       "      <td>0.723422</td>\n",
       "      <td>0.805850</td>\n",
       "      <td>0.290930</td>\n",
       "    </tr>\n",
       "    <tr>\n",
       "      <th>34401</th>\n",
       "      <td>18326</td>\n",
       "      <td>0</td>\n",
       "      <td>0.298507</td>\n",
       "      <td>2</td>\n",
       "      <td>2</td>\n",
       "      <td>0.894748</td>\n",
       "      <td>0.807903</td>\n",
       "      <td>0.136143</td>\n",
       "    </tr>\n",
       "    <tr>\n",
       "      <th>34402</th>\n",
       "      <td>32956</td>\n",
       "      <td>0</td>\n",
       "      <td>0.298507</td>\n",
       "      <td>2</td>\n",
       "      <td>1</td>\n",
       "      <td>0.958280</td>\n",
       "      <td>0.739822</td>\n",
       "      <td>0.000583</td>\n",
       "    </tr>\n",
       "  </tbody>\n",
       "</table>\n",
       "<p>34403 rows × 8 columns</p>\n",
       "</div>"
      ],
      "text/plain": [
       "        msno  city        bd  gender  registered_via  registration_init_time  \\\n",
       "0      19016     0  0.298507       2               2                0.572427   \n",
       "1      17476     0  0.298507       2               2                0.870606   \n",
       "2       7977     0  0.298507       2               1                0.931597   \n",
       "3      27021     0  0.298507       2               3                0.885430   \n",
       "4      29129     0  0.298507       2               1                0.993011   \n",
       "...      ...   ...       ...     ...             ...                     ...   \n",
       "34398  18725     0  0.298507       2               2                0.744812   \n",
       "34399  23698     2  0.164179       1               0                0.818297   \n",
       "34400  10811     0  0.298507       2               2                0.723422   \n",
       "34401  18326     0  0.298507       2               2                0.894748   \n",
       "34402  32956     0  0.298507       2               1                0.958280   \n",
       "\n",
       "       expiration_date  duration  \n",
       "0             0.807903  0.431734  \n",
       "1             0.792508  0.140804  \n",
       "2             0.795929  0.088755  \n",
       "3             0.680636  0.000194  \n",
       "4             0.790968  0.026801  \n",
       "...                ...       ...  \n",
       "34398         0.806192  0.271703  \n",
       "34399         0.786521  0.181977  \n",
       "34400         0.805850  0.290930  \n",
       "34401         0.807903  0.136143  \n",
       "34402         0.739822  0.000583  \n",
       "\n",
       "[34403 rows x 8 columns]"
      ]
     },
     "execution_count": 35,
     "metadata": {},
     "output_type": "execute_result"
    }
   ],
   "source": [
    "members_df"
   ]
  },
  {
   "cell_type": "markdown",
   "metadata": {},
   "source": [
    "### Train Test"
   ]
  },
  {
   "cell_type": "code",
   "execution_count": 40,
   "metadata": {},
   "outputs": [
    {
     "data": {
      "text/plain": [
       "Index(['msno', 'song_id', 'source_system_tab', 'source_screen_name',\n",
       "       'source_type', 'target', 'id'],\n",
       "      dtype='object')"
      ]
     },
     "execution_count": 40,
     "metadata": {},
     "output_type": "execute_result"
    }
   ],
   "source": [
    "train_test_df.columns"
   ]
  },
  {
   "cell_type": "code",
   "execution_count": 41,
   "metadata": {},
   "outputs": [],
   "source": [
    "# encode source*\n",
    "columns = ['source_system_tab', 'source_screen_name', 'source_type']\n",
    "for column in columns:\n",
    "    column_encoder = LabelEncoder()\n",
    "    column_encoder.fit(train_test_df[column])\n",
    "    train_df[column] = column_encoder.transform(train_df[column])\n",
    "    test_df[column] = column_encoder.transform(test_df[column])"
   ]
  },
  {
   "cell_type": "code",
   "execution_count": 42,
   "metadata": {},
   "outputs": [],
   "source": [
    "tr_df, val_df = train_test_split(train_df, test_size=0.2, shuffle=False)"
   ]
  },
  {
   "cell_type": "code",
   "execution_count": 43,
   "metadata": {},
   "outputs": [],
   "source": [
    "tr_song_df = tr_df.merge(songs_df, how='left', on='song_id')\n",
    "tr_song_msno_df = tr_song_df.merge(members_df, how='left', on='msno')\n",
    "val_song_df = val_df.merge(songs_df, how='left', on='song_id')\n",
    "val_song_msno_df = val_song_df.merge(members_df, how='left', on='msno')\n",
    "ts_song_df = test_df.merge(songs_df, how='left', on='song_id')\n",
    "ts_song_msno_df = ts_song_df.merge(members_df, how='left', on='msno')"
   ]
  },
  {
   "cell_type": "code",
   "execution_count": 50,
   "metadata": {},
   "outputs": [],
   "source": [
    "tr_song_msno_df.to_csv('../data/prep_tr_song_msno.csv',\n",
    "                       encoding='utf-8',\n",
    "                       index=False)\n",
    "val_song_msno_df.to_csv('../data/prep_val_song_msno.csv',\n",
    "                        encoding='utf-8',\n",
    "                        index=False)\n",
    "ts_song_msno_df.to_csv('../data/prep_ts_song_msno.csv',\n",
    "                       encoding='utf-8',\n",
    "                       index=False)"
   ]
  },
  {
   "cell_type": "markdown",
   "metadata": {},
   "source": [
    "## Construct dataset"
   ]
  },
  {
   "cell_type": "code",
   "execution_count": 2,
   "metadata": {},
   "outputs": [],
   "source": [
    "tr_song_msno_df = pd.read_csv(\"../data/prep_tr_song_msno.csv\")\n",
    "val_song_msno_df = pd.read_csv(\"../data/prep_val_song_msno.csv\")\n",
    "ts_song_msno_df = pd.read_csv(\"../data/prep_ts_song_msno.csv\")\n",
    "\n",
    "with open('../data/item2idx.json', 'r', encoding='utf-8') as f:\n",
    "    item2idx = json.load(f)"
   ]
  },
  {
   "cell_type": "code",
   "execution_count": 3,
   "metadata": {},
   "outputs": [],
   "source": [
    "full_df = pd.concat([tr_song_msno_df, val_song_msno_df, ts_song_msno_df],\n",
    "                    ignore_index=True)"
   ]
  },
  {
   "cell_type": "code",
   "execution_count": 8,
   "metadata": {},
   "outputs": [],
   "source": [
    "a = tr_song_msno_df['genre_ids'].apply(ast.literal_eval)"
   ]
  },
  {
   "cell_type": "code",
   "execution_count": 9,
   "metadata": {},
   "outputs": [
    {
     "data": {
      "text/plain": [
       "[12]"
      ]
     },
     "execution_count": 9,
     "metadata": {},
     "output_type": "execute_result"
    }
   ],
   "source": [
    "a[0]"
   ]
  },
  {
   "cell_type": "code",
   "execution_count": 74,
   "metadata": {},
   "outputs": [],
   "source": [
    "sparse_features = [\n",
    "    'msno',\n",
    "    'song_id',\n",
    "    'source_system_tab',\n",
    "    'source_screen_name',\n",
    "    'source_type',\n",
    "    'composer',\n",
    "    'lyricist',\n",
    "    'language',\n",
    "    'is_featured',\n",
    "    'city',\n",
    "    'registered_via',\n",
    "    'gender',\n",
    "]\n",
    "dense_features = [\n",
    "    'song_length',\n",
    "    'num_artist',\n",
    "    'num_composer',\n",
    "    'num_lyricist',\n",
    "    'bd',\n",
    "    'registration_init_time',\n",
    "    'expiration_date',\n",
    "    'duration',\n",
    "]\n",
    "varlen_features = [\n",
    "    'genre_ids',\n",
    "    'artist_name',\n",
    "]\n",
    "embed_dim = 64"
   ]
  },
  {
   "cell_type": "code",
   "execution_count": 75,
   "metadata": {},
   "outputs": [],
   "source": [
    "fixlen_feature_columns = [\n",
    "    SparseFeat(feat, len(full_df[feat].unique()), embedding_dim=embed_dim)\n",
    "    for feat in sparse_features\n",
    "] + [DenseFeat(feat, 1) for feat in dense_features]"
   ]
  },
  {
   "cell_type": "code",
   "execution_count": 76,
   "metadata": {},
   "outputs": [],
   "source": [
    "varlen_feature_columns = [\n",
    "    VarLenSparseFeat(SparseFeat(feat,\n",
    "                                vocabulary_size=len(item2idx[feat]),\n",
    "                                embedding_dim=embed_dim),\n",
    "                     maxlen=max(full_df[feat].apply(len)),\n",
    "                     combiner='mean') for feat in varlen_features\n",
    "]"
   ]
  },
  {
   "cell_type": "code",
   "execution_count": 77,
   "metadata": {},
   "outputs": [],
   "source": [
    "linear_feature_columns = fixlen_feature_columns \\\n",
    "            + varlen_feature_columns\n",
    "dnn_feature_columns = fixlen_feature_columns + varlen_feature_columns\n",
    "feature_names = get_feature_names(linear_feature_columns + dnn_feature_columns)"
   ]
  },
  {
   "cell_type": "code",
   "execution_count": 78,
   "metadata": {},
   "outputs": [],
   "source": [
    "tr_model_input = {name: tr_song_msno_df[name] for name in feature_names}\n",
    "val_model_input = {name: val_song_msno_df[name] for name in feature_names}\n",
    "ts_model_input = {name: ts_song_msno_df[name] for name in feature_names}\n",
    "\n",
    "for feat in varlen_features:\n",
    "    tr_model_input[feat] = pad_sequences(tr_song_msno_df[feat],\n",
    "                                         maxlen=max(full_df[feat].apply(len)),\n",
    "                                         padding='post')\n",
    "    val_model_input[feat] = pad_sequences(val_song_msno_df[feat],\n",
    "                                          maxlen=max(full_df[feat].apply(len)),\n",
    "                                          padding='post')\n",
    "    ts_model_input[feat] = pad_sequences(ts_song_msno_df[feat],\n",
    "                                         maxlen=max(full_df[feat].apply(len)),\n",
    "                                         padding='post')"
   ]
  },
  {
   "cell_type": "code",
   "execution_count": 79,
   "metadata": {},
   "outputs": [],
   "source": [
    "model = DeepFM(linear_feature_columns,\n",
    "               dnn_feature_columns,\n",
    "               task='binary',\n",
    "               l2_reg_embedding=1e-5,\n",
    "               dnn_dropout=0.3,\n",
    "               l2_reg_dnn=1e-5,\n",
    "               dnn_use_bn=True,\n",
    "               device=DEVICE)"
   ]
  },
  {
   "cell_type": "code",
   "execution_count": 80,
   "metadata": {},
   "outputs": [],
   "source": [
    "model.compile(\n",
    "    optimizer=\"adam\",\n",
    "    # optimizer=optim.RMSprop(model.parameters(), lr=1e-3),\n",
    "    loss=\"binary_crossentropy\",\n",
    "    metrics=['auc'])"
   ]
  },
  {
   "cell_type": "code",
   "execution_count": null,
   "metadata": {},
   "outputs": [],
   "source": [
    "history = model.fit(tr_model_input,\n",
    "                    tr_song_msno_df['target'].values,\n",
    "                    batch_size=8192,\n",
    "                    epochs=10,\n",
    "                    verbose=2,\n",
    "                    validation_data=(val_model_input,\n",
    "                                     val_song_msno_df['target'].values),\n",
    "                    shuffle=True)"
   ]
  }
 ],
 "metadata": {
  "kernelspec": {
   "display_name": "DL",
   "language": "python",
   "name": "python3"
  },
  "language_info": {
   "codemirror_mode": {
    "name": "ipython",
    "version": 3
   },
   "file_extension": ".py",
   "mimetype": "text/x-python",
   "name": "python",
   "nbconvert_exporter": "python",
   "pygments_lexer": "ipython3",
   "version": "3.10.13"
  }
 },
 "nbformat": 4,
 "nbformat_minor": 2
}
